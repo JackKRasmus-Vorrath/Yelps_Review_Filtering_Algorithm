{
 "cells": [
  {
   "cell_type": "code",
   "execution_count": 1,
   "metadata": {},
   "outputs": [
    {
     "name": "stderr",
     "output_type": "stream",
     "text": [
      "C:\\ProgramData\\Anaconda3\\lib\\site-packages\\statsmodels\\compat\\pandas.py:56: FutureWarning: The pandas.core.datetools module is deprecated and will be removed in a future version. Please use the pandas.tseries module instead.\n",
      "  from pandas.core import datetools\n"
     ]
    }
   ],
   "source": [
    "%matplotlib inline\n",
    "import matplotlib.pyplot as plt\n",
    "from scipy import stats\n",
    "import numpy as np\n",
    "import pandas as pd\n",
    "import statsmodels.formula.api as smf\n",
    "import statsmodels.api as sm\n",
    "from statsmodels.stats.anova import anova_lm\n",
    "from statsmodels import graphics\n",
    "from patsy import dmatrices\n",
    "import sys\n",
    "try:\n",
    "    sys.getwindowsversion()\n",
    "except AttributeError:\n",
    "    isWindows = False\n",
    "else:\n",
    "    isWindows = True\n",
    "\n",
    "if isWindows:\n",
    "    import win32api,win32process,win32con\n",
    "    pid = win32api.GetCurrentProcessId()\n",
    "    handle = win32api.OpenProcess(win32con.PROCESS_ALL_ACCESS, True, pid)\n",
    "    win32process.SetPriorityClass(handle, win32process.HIGH_PRIORITY_CLASS)\n",
    "plt.rcParams['figure.figsize'] = [15, 10]"
   ]
  },
  {
   "cell_type": "markdown",
   "metadata": {},
   "source": [
    "# Read data"
   ]
  },
  {
   "cell_type": "code",
   "execution_count": 2,
   "metadata": {},
   "outputs": [],
   "source": [
    "reviews = pd.read_csv('data/reviews.csv')"
   ]
  },
  {
   "cell_type": "markdown",
   "metadata": {},
   "source": [
    "# Merge external datasets to add long, lat, find distance in miles"
   ]
  },
  {
   "cell_type": "code",
   "execution_count": 3,
   "metadata": {},
   "outputs": [],
   "source": [
    "#Import csv files for user and restraurant long and lats\n",
    "geocoded_restaurant = pd.read_csv('data/geocoded_restaurant2.csv')\n",
    "reviews = reviews.merge(geocoded_restaurant, left_on='address', right_on='address', how='left')\n",
    "\n",
    "geocoded_user = pd.read_csv('data/geocoded_user2.csv')\n",
    "reviews = reviews.merge(geocoded_user, left_on='localtion', right_on='localtion', how='left')"
   ]
  },
  {
   "cell_type": "code",
   "execution_count": 4,
   "metadata": {},
   "outputs": [],
   "source": [
    "#find distance between user and restaurant\n",
    "def haversine_np(lon1, lat1, lon2, lat2):\n",
    "\n",
    "    lon1, lat1, lon2, lat2 = map(np.radians, [lon1, lat1, lon2, lat2])\n",
    "\n",
    "    dlon = lon2 - lon1\n",
    "    dlat = lat2 - lat1\n",
    "\n",
    "    a = np.sin(dlat/2.0)**2 + np.cos(lat1) * np.cos(lat2) * np.sin(dlon/2.0)**2\n",
    "\n",
    "    c = 2 * np.arcsin(np.sqrt(a))\n",
    "    mi = 3956 * c # Radius of earth in miles\n",
    "    return mi"
   ]
  },
  {
   "cell_type": "code",
   "execution_count": 5,
   "metadata": {},
   "outputs": [],
   "source": [
    "reviews['Rev_Dist_Miles'] = reviews.apply(lambda row: haversine_np(row['Rest_long'], \n",
    "                                                                   row['Rest_lat'], \n",
    "                                                                   row['User_long'], \n",
    "                                                                   row['User_lat']), axis=1)"
   ]
  },
  {
   "cell_type": "markdown",
   "metadata": {},
   "source": [
    "# Rename some columns for better plots and write-up"
   ]
  },
  {
   "cell_type": "code",
   "execution_count": 6,
   "metadata": {},
   "outputs": [],
   "source": [
    "reviews = reviews.rename(columns={\"friends\":\"N Friends\",\n",
    "                                    \"has_photo\":\"Has Profile Picture\",\n",
    "                                    \"photos\":\"N Photos Of User\",\n",
    "                                    \"rating\":\"User Rating\",\n",
    "                                    \"reviews\":\"N Reviews User Made\",\n",
    "                                    \"numSentence\":\"N Sentences\",\n",
    "                                    \"totSentiment\":\"Text Total Sentiment\",\n",
    "                                    \"avgSentiment\":\"Text Average Sentiment\",\n",
    "                                    \"spellErrorRatio\":\"Text Spelling Score\",\n",
    "                                    \"toxic\":\"Text Toxic Score\",\n",
    "                                    \"severe_toxic\":\"Text Severe Toxic Score\",\n",
    "                                    \"obscene\":\"Text Obscene Score\",\n",
    "                                    \"threat\":\"Text Threat Score\",\n",
    "                                    \"insult\":\"Text Insult Score\",\n",
    "                                    \"identity_hate\":\"Text Identity Hate Score\",\n",
    "                                    \"readability_FK\":\"Text Readability FK Score\",\n",
    "                                    \"readability_AR\":\"Text Readability AR Score\",\n",
    "                                    \"spam\":\"Deceptive Score\",\n",
    "                                    \"regular\":\"Recommended\",\n",
    "                                    \"Edited_Review_Bool\":\"Has Been Edited\",\n",
    "                                    \"Days_Since_10_2004\":\"N Days Published\",\n",
    "                                    \"Review_Words\":\"N Words In Text\",\n",
    "                                    \"Review_Words_No_Stopwords\":\"N Words In Text No Stop\",\n",
    "                                    \"n_reviews\":\"N Reviews of Restaurant\",\n",
    "                                    \"number_restaurants\":\"N Restaurants In City\",\n",
    "                                    \"restaurant_number\":\"Listing Order\",\n",
    "                                    \"restaurant_id\":\"Restaurant_ID\",\n",
    "                                    \"regularRatio\":\"Recommended Ratio\",\n",
    "                                    \"Rest_Address_Words\":\"N Words Address\",\n",
    "                                    \"Rest_Name_Words\":\"N Words Name\",\n",
    "                                    \"User_Rating_Diff\":\"User To Average Rating\",\n",
    "                                    \"Rev_Dist_Miles\":\"User To Restaurant Miles\",\n",
    "                                    \"restaurant_id\":\"Restaurant_ID\",});"
   ]
  },
  {
   "cell_type": "markdown",
   "metadata": {},
   "source": [
    "# Features Transformations"
   ]
  },
  {
   "cell_type": "code",
   "execution_count": 7,
   "metadata": {},
   "outputs": [],
   "source": [
    "log_columns = ['N Friends',\n",
    "               'N Days Published',\n",
    "               'N Sentences', \n",
    "               'N Photos Of User', \n",
    "               'N Reviews User Made', \n",
    "               'Text Total Sentiment',\n",
    "               'N Reviews of Restaurant',\n",
    "               'N Restaurants In City',\n",
    "               'N Words In Text',\n",
    "               'N Words In Text No Stop',\n",
    "               'User To Restaurant Miles',\n",
    "               'Text Spelling Score',\n",
    "               'Text Toxic Score',\n",
    "               'Text Severe Toxic Score', \n",
    "               'Text Obscene Score', \n",
    "               'Text Threat Score', \n",
    "               'Text Insult Score',\n",
    "               'Text Identity Hate Score', \n",
    "               'Text Readability FK Score', \n",
    "               'Text Readability AR Score',\n",
    "               'Text Very Negative',\n",
    "               'Text Very Positive',\n",
    "               'Text Negative',\n",
    "               'Text Positive',\n",
    "               'Text Neutral'\n",
    "              ]\n",
    "\n",
    "for column in log_columns:\n",
    "    reviews[column+'*'] = np.log(reviews[column]+1)\n",
    "\n",
    "reviews = reviews.drop(columns=log_columns)"
   ]
  },
  {
   "cell_type": "markdown",
   "metadata": {},
   "source": [
    "# Remove Columns Not Needed for Analysis"
   ]
  },
  {
   "cell_type": "code",
   "execution_count": 8,
   "metadata": {},
   "outputs": [],
   "source": [
    "#drop nonnumerical, but use city as a class for later modeling, FYI\n",
    "reviews.drop(columns=['localtion','address','Rest_long','Rest_lat','User_long','User_lat','city','numWords'], inplace=True)"
   ]
  },
  {
   "cell_type": "code",
   "execution_count": 9,
   "metadata": {},
   "outputs": [],
   "source": [
    "#export for later geolocation analysis, perhaps map clustering\n",
    "reviews.to_csv('data/1_reviews_complete.csv', index=False)"
   ]
  },
  {
   "cell_type": "markdown",
   "metadata": {},
   "source": [
    "# Balance the data"
   ]
  },
  {
   "cell_type": "code",
   "execution_count": 10,
   "metadata": {},
   "outputs": [],
   "source": [
    "balanced_reviews=reviews"
   ]
  },
  {
   "cell_type": "code",
   "execution_count": 11,
   "metadata": {},
   "outputs": [
    {
     "data": {
      "text/plain": [
       "53330"
      ]
     },
     "execution_count": 11,
     "metadata": {},
     "output_type": "execute_result"
    }
   ],
   "source": [
    "balanced_reviews = pd.DataFrame()\n",
    "for restaurant_id, group in reviews.groupby('Restaurant_ID'):\n",
    "    take_n = min((group['Recommended'] == 0).sum(), (group['Recommended'] == 1).sum())\n",
    "    if take_n == 0:\n",
    "        continue\n",
    "    reg_reviews = group[group['Recommended'] == 1].sample(n=take_n, random_state=0)\n",
    "    not_reviews = group[group['Recommended'] == 0].sample(n=take_n, random_state=0)\n",
    "    group_reviews = reg_reviews.append(not_reviews)\n",
    "    \n",
    "    assert group_reviews['Recommended'].mean() == .5\n",
    "    balanced_reviews = balanced_reviews.append(group_reviews)\n",
    "\n",
    "assert balanced_reviews['Recommended'].mean() == .5\n",
    "len(balanced_reviews)"
   ]
  },
  {
   "cell_type": "code",
   "execution_count": 12,
   "metadata": {},
   "outputs": [
    {
     "data": {
      "text/plain": [
       "0.5"
      ]
     },
     "execution_count": 12,
     "metadata": {},
     "output_type": "execute_result"
    }
   ],
   "source": [
    "balanced_reviews['Recommended'].mean()"
   ]
  },
  {
   "cell_type": "markdown",
   "metadata": {},
   "source": [
    "# Export balanced_reviews for use of R and SAS"
   ]
  },
  {
   "cell_type": "code",
   "execution_count": 13,
   "metadata": {},
   "outputs": [],
   "source": [
    "balanced_reviews.to_csv('data/balanced_reviews.csv', index=False)"
   ]
  },
  {
   "cell_type": "markdown",
   "metadata": {},
   "source": [
    "# At this point all vaiables should be numerical!"
   ]
  },
  {
   "cell_type": "code",
   "execution_count": 14,
   "metadata": {},
   "outputs": [],
   "source": [
    "balanced_reviews = balanced_reviews.astype(np.float32)"
   ]
  },
  {
   "cell_type": "markdown",
   "metadata": {},
   "source": [
    "# Cook's distance\n",
    "\n",
    "Cook's distance is an estimation of influence of data points for a regression model.\n",
    "\n",
    "# No Cook's distance for now because it take too much time"
   ]
  },
  {
   "cell_type": "code",
   "execution_count": 15,
   "metadata": {},
   "outputs": [],
   "source": [
    "# start = time.time()\n",
    "# features = balanced_reviews.columns.tolist()\n",
    "# features.remove('Recommended')\n",
    "# features = '+'.join(features)\n",
    "# model = smf.ols(\"Recommended ~ %s\" % features, balanced_reviews).fit()\n",
    "\n",
    "# influence = model.get_influence()\n",
    "# influence_summary = influence.summary_frame()\n",
    "# influence_summary.head()\n",
    "# time.strftime(\"%H:%M:%S\", time.gmtime(time.time() - start))"
   ]
  },
  {
   "cell_type": "markdown",
   "metadata": {},
   "source": [
    "# Plot Cook's distance"
   ]
  },
  {
   "cell_type": "code",
   "execution_count": 16,
   "metadata": {},
   "outputs": [],
   "source": [
    "# plt.plot(influence_summary.index, influence_summary['cooks_d'], 'o')\n",
    "# plt.axhline(y=60/(len(balanced_reviews)-1), color='r', linestyle='-')\n",
    "# plt.axhline(y=.0005, color='r', linestyle='-')"
   ]
  },
  {
   "cell_type": "markdown",
   "metadata": {},
   "source": [
    "# Filter outliers"
   ]
  },
  {
   "cell_type": "code",
   "execution_count": 17,
   "metadata": {},
   "outputs": [],
   "source": [
    "# balanced_reviews = balanced_reviews[influence_summary['cooks_d'] < 0.005]"
   ]
  },
  {
   "cell_type": "code",
   "execution_count": 18,
   "metadata": {},
   "outputs": [],
   "source": [
    "# balanced_reviews.reset_index(inplace = True)\n",
    "# del balanced_reviews['index']\n",
    "# len(balanced_reviews)"
   ]
  },
  {
   "cell_type": "code",
   "execution_count": 19,
   "metadata": {},
   "outputs": [],
   "source": [
    "balanced_reviews.to_csv('data/2_not_scaled_data.csv', index=False)"
   ]
  },
  {
   "cell_type": "code",
   "execution_count": 20,
   "metadata": {},
   "outputs": [
    {
     "data": {
      "text/plain": [
       "0.5"
      ]
     },
     "execution_count": 20,
     "metadata": {},
     "output_type": "execute_result"
    }
   ],
   "source": [
    "balanced_reviews['Recommended'].mean()"
   ]
  },
  {
   "cell_type": "markdown",
   "metadata": {},
   "source": [
    "# Scale data"
   ]
  },
  {
   "cell_type": "code",
   "execution_count": 21,
   "metadata": {},
   "outputs": [],
   "source": [
    "from sklearn.preprocessing import MinMaxScaler\n",
    "scaler = MinMaxScaler(feature_range=(0, 1))\n",
    "\n",
    "#I saw the math and outputs, if recommended is 0 to 1, this does not need to be done because the output is same\n",
    "regular = balanced_reviews['Recommended']\n",
    "\n",
    "del balanced_reviews['Recommended']\n",
    "columns = balanced_reviews.columns\n",
    "balanced_reviews = scaler.fit_transform(balanced_reviews)\n",
    "balanced_reviews = pd.DataFrame(balanced_reviews, columns=columns)\n",
    "\n",
    "balanced_reviews['Recommended'] = regular.values"
   ]
  },
  {
   "cell_type": "markdown",
   "metadata": {},
   "source": [
    "# Export data"
   ]
  },
  {
   "cell_type": "code",
   "execution_count": 22,
   "metadata": {},
   "outputs": [],
   "source": [
    "balanced_reviews.drop(columns=['Restaurant_ID'], inplace=True)"
   ]
  },
  {
   "cell_type": "code",
   "execution_count": 23,
   "metadata": {},
   "outputs": [],
   "source": [
    "balanced_reviews.to_csv('data/ready_data.csv', index=False)"
   ]
  },
  {
   "cell_type": "code",
   "execution_count": 24,
   "metadata": {},
   "outputs": [
    {
     "data": {
      "text/plain": [
       "0.5"
      ]
     },
     "execution_count": 24,
     "metadata": {},
     "output_type": "execute_result"
    }
   ],
   "source": [
    "balanced_reviews['Recommended'].mean()"
   ]
  }
 ],
 "metadata": {
  "kernelspec": {
   "display_name": "Python 3",
   "language": "python",
   "name": "python3"
  },
  "language_info": {
   "codemirror_mode": {
    "name": "ipython",
    "version": 3
   },
   "file_extension": ".py",
   "mimetype": "text/x-python",
   "name": "python",
   "nbconvert_exporter": "python",
   "pygments_lexer": "ipython3",
   "version": "3.6.4"
  }
 },
 "nbformat": 4,
 "nbformat_minor": 2
}
