{
 "cells": [
  {
   "cell_type": "markdown",
   "metadata": {},
   "source": [
    "# ****DO NOT RUN****, STILL TALKING IT OVER W/ IVELIN\n",
    "\n",
    "# Logistic regression modeling and interpretation using Yelp reviews\n",
    "\n",
    "### Objective: \n",
    "\n",
    "- Checking and removing the outliers from a linear regression model using Cook's distance\n",
    "- Visualizing the error distribution using a Q-Q plot\n",
    "- Presenting final regression model performance including r-squared value"
   ]
  },
  {
   "cell_type": "code",
   "execution_count": 1,
   "metadata": {},
   "outputs": [
    {
     "name": "stderr",
     "output_type": "stream",
     "text": [
      "C:\\ProgramData\\Anaconda3\\lib\\site-packages\\statsmodels\\compat\\pandas.py:56: FutureWarning: The pandas.core.datetools module is deprecated and will be removed in a future version. Please use the pandas.tseries module instead.\n",
      "  from pandas.core import datetools\n",
      "C:\\ProgramData\\Anaconda3\\lib\\site-packages\\sklearn\\cross_validation.py:41: DeprecationWarning: This module was deprecated in version 0.18 in favor of the model_selection module into which all the refactored classes and functions are moved. Also note that the interface of the new CV iterators are different from that of this module. This module will be removed in 0.20.\n",
      "  \"This module will be removed in 0.20.\", DeprecationWarning)\n"
     ]
    }
   ],
   "source": [
    "%matplotlib inline\n",
    "import matplotlib.pyplot as plt\n",
    "from scipy import stats\n",
    "import numpy as np\n",
    "import pandas as pd\n",
    "import statsmodels.formula.api as smf\n",
    "import statsmodels.api as sm\n",
    "from statsmodels.stats.anova import anova_lm\n",
    "from statsmodels import graphics\n",
    "from patsy import dmatrices\n",
    "import sys\n",
    "from sklearn import metrics\n",
    "from sklearn.linear_model import LogisticRegression\n",
    "from sklearn.cross_validation import train_test_split\n",
    "from sklearn import model_selection\n",
    "from sklearn.model_selection import cross_val_score\n",
    "from sklearn.metrics import confusion_matrix\n",
    "from sklearn.metrics import roc_auc_score\n",
    "from sklearn.metrics import roc_curve\n",
    "from sklearn.metrics import classification_report\n",
    "import scipy.stats as stat\n",
    "from sklearn.model_selection import GridSearchCV\n",
    "from tqdm import tqdm\n",
    "import time\n",
    "try:\n",
    "    sys.getwindowsversion()\n",
    "except AttributeError:\n",
    "    isWindows = False\n",
    "else:\n",
    "    isWindows = True\n",
    "\n",
    "if isWindows:\n",
    "    import win32api,win32process,win32con\n",
    "    pid = win32api.GetCurrentProcessId()\n",
    "    handle = win32api.OpenProcess(win32con.PROCESS_ALL_ACCESS, True, pid)\n",
    "    win32process.SetPriorityClass(handle, win32process.HIGH_PRIORITY_CLASS)\n",
    "plt.rcParams['figure.figsize'] = [15, 10]"
   ]
  },
  {
   "cell_type": "markdown",
   "metadata": {},
   "source": [
    "# Read data"
   ]
  },
  {
   "cell_type": "code",
   "execution_count": 2,
   "metadata": {},
   "outputs": [],
   "source": [
    "reviews = pd.read_csv('data/ready_data.csv')\n",
    "\n",
    "y = reviews['Recommended']\n",
    "X = reviews.copy()\n",
    "del X['Recommended']"
   ]
  },
  {
   "cell_type": "markdown",
   "metadata": {},
   "source": [
    "# Logistic Regression"
   ]
  },
  {
   "cell_type": "code",
   "execution_count": 3,
   "metadata": {},
   "outputs": [
    {
     "name": "stdout",
     "output_type": "stream",
     "text": [
      "Accuracy of logistic regression classifier on test set: 0.79204\n"
     ]
    }
   ],
   "source": [
    "X_train, X_test, y_train, y_test = train_test_split(X, y, test_size=0.3, random_state=0)\n",
    "logreg = LogisticRegression(penalty='l2',class_weight='balanced')\n",
    "logreg.fit(X_train, y_train)\n",
    "y_pred = logreg.predict(X_test)\n",
    "print('Accuracy of logistic regression classifier on test set: {:.5f}'.format(logreg.score(X_test, y_test)))"
   ]
  },
  {
   "cell_type": "code",
   "execution_count": 4,
   "metadata": {},
   "outputs": [],
   "source": [
    "def test_accuracy(model, n_splits=5, print_steps=False, params={}):\n",
    "    accuracies = []\n",
    "    for i in range(1, n_splits+1):\n",
    "        X_train, X_test, y_train, y_test = train_test_split(X, y, test_size=.3, random_state=i)\n",
    "        yhat, _ = model(\n",
    "            X_train=X_train,\n",
    "            y_train=y_train,\n",
    "            X_test=X_test,\n",
    "            **params\n",
    "        )\n",
    "        accuracy = float(sum(yhat==y_test)) / len(y_test)\n",
    "        accuracies.append(accuracy)\n",
    "        if print_steps:\n",
    "            matrix = pd.DataFrame(confusion_matrix(y_test, yhat),\n",
    "                columns=['Predicted 0', 'Predicted 1'],\n",
    "                index=['Actual 0', 'Actual 1'],\n",
    "            )\n",
    "            print('*' * 15 + ' Split %d ' % i + '*' * 15)\n",
    "            print('Accuracy:', accuracy)\n",
    "            print(matrix)\n",
    "            \n",
    "    return np.mean(accuracies)\n",
    "    \n",
    "def find_optimal_accuracy(model, param, param_values, params={}):\n",
    "    result = {}\n",
    "    for param_value in tqdm(list(param_values)):\n",
    "        params_local = params.copy()\n",
    "        params_local[param] = param_value\n",
    "        result[param_value] = test_accuracy(model, params=params_local)\n",
    "    \n",
    "    result = pd.Series(result).sort_index()\n",
    "    plt.xlabel(param, fontsize=15)\n",
    "    plt.ylabel('Accuracy', fontsize=15)\n",
    "    \n",
    "    optimal_param = result.argmax()\n",
    "    optimal_accuracy = result[optimal_param]\n",
    "    \n",
    "    if type(param_value) == str:\n",
    "        result.plot(kind='bar')\n",
    "    else:\n",
    "        result.plot()\n",
    "    plt.show()\n",
    "    return optimal_param"
   ]
  },
  {
   "cell_type": "code",
   "execution_count": 5,
   "metadata": {},
   "outputs": [
    {
     "name": "stdout",
     "output_type": "stream",
     "text": [
      "*************** Split 1 ***************\n",
      "Accuracy: 0.7920412655475111\n",
      "          Predicted 0  Predicted 1\n",
      "Actual 0         6759         1387\n",
      "Actual 1        14296        52972\n",
      "*************** Split 2 ***************\n",
      "Accuracy: 0.7927307926910123\n",
      "          Predicted 0  Predicted 1\n",
      "Actual 0         6823         1377\n",
      "Actual 1        14254        52960\n",
      "*************** Split 3 ***************\n",
      "Accuracy: 0.7917495425252605\n",
      "          Predicted 0  Predicted 1\n",
      "Actual 0         6715         1336\n",
      "Actual 1        14369        52994\n",
      "*************** Split 4 ***************\n",
      "Accuracy: 0.7899594239796325\n",
      "          Predicted 0  Predicted 1\n",
      "Actual 0         6628         1428\n",
      "Actual 1        14412        52946\n",
      "*************** Split 5 ***************\n",
      "Accuracy: 0.7912986978545098\n",
      "          Predicted 0  Predicted 1\n",
      "Actual 0         6716         1360\n",
      "Actual 1        14379        52959\n",
      "--------------------------------------------------\n"
     ]
    },
    {
     "data": {
      "text/plain": [
       "'Average unoptimized accuracy: 0.791556'"
      ]
     },
     "execution_count": 5,
     "metadata": {},
     "output_type": "execute_result"
    }
   ],
   "source": [
    "def logistic_regression_model(X_train, y_train, X_test, **params):\n",
    "\n",
    "    params['class_weight'] = 'balanced'\n",
    "\n",
    "    clf = LogisticRegression(**params)\n",
    "    clf.fit(X_train, y_train)\n",
    "    return clf.predict(X_test), clf\n",
    "\n",
    "best_params_logistic = {}\n",
    "\n",
    "model = logistic_regression_model\n",
    "accuracy = test_accuracy(model=model, params=best_params_logistic, print_steps=True)\n",
    "print('-' * 50)\n",
    "'Average unoptimized accuracy: %f' % accuracy"
   ]
  },
  {
   "cell_type": "code",
   "execution_count": 6,
   "metadata": {},
   "outputs": [
    {
     "name": "stderr",
     "output_type": "stream",
     "text": [
      "100%|██████████████████████████████████████████| 11/11 [05:07<00:00, 27.94s/it]\n",
      "C:\\ProgramData\\Anaconda3\\lib\\site-packages\\ipykernel_launcher.py:35: FutureWarning: 'argmax' is deprecated. Use 'idxmax' instead. The behavior of 'argmax' will be corrected to return the positional maximum in the future. Use 'series.values.argmax' to get the position of the maximum now.\n"
     ]
    },
    {
     "data": {
      "image/png": "[encoded data removed]",
      "text/plain": [
       "<matplotlib.figure.Figure at 0x3895438>"
      ]
     },
     "metadata": {},
     "output_type": "display_data"
    },
    {
     "name": "stdout",
     "output_type": "stream",
     "text": [
      "Best tol 1e-06\n"
     ]
    }
   ],
   "source": [
    "test_params = [\n",
    "    ('tol', np.linspace(0.000001, 0.000002, 11))\n",
    "]\n",
    "\n",
    "for param, param_values in test_params:\n",
    "    best_params_logistic[param] = find_optimal_accuracy(\n",
    "        logistic_regression_model,\n",
    "        param=param,\n",
    "        param_values=param_values,\n",
    "        params=best_params_logistic\n",
    "    )\n",
    "    print(\"Best\", param, best_params_logistic[param])\n",
    "    time.sleep(1)"
   ]
  },
  {
   "cell_type": "code",
   "execution_count": 7,
   "metadata": {},
   "outputs": [
    {
     "name": "stdout",
     "output_type": "stream",
     "text": [
      "Optimized Logistic Regression Accuracy 0.791545\n",
      "30.1 s ± 0 ns per loop (mean ± std. dev. of 1 run, 1 loop each)\n"
     ]
    }
   ],
   "source": [
    "%%timeit -n1 -r1\n",
    "\n",
    "accuracy = test_accuracy(\n",
    "    logistic_regression_model, n_splits=5, params=best_params_logistic)\n",
    "print('Optimized Logistic Regression Accuracy %f' % accuracy)"
   ]
  },
  {
   "cell_type": "code",
   "execution_count": 8,
   "metadata": {},
   "outputs": [
    {
     "name": "stdout",
     "output_type": "stream",
     "text": [
      "10-fold cross validation average accuracy: 0.79159\n"
     ]
    }
   ],
   "source": [
    "kfold = model_selection.KFold(n_splits=10, random_state=7)\n",
    "scoring = 'accuracy'\n",
    "results = model_selection.cross_val_score(logreg, X_train, y_train, cv=kfold, scoring=scoring)\n",
    "print(\"10-fold cross validation average accuracy: %.5f\" % (results.mean()))"
   ]
  },
  {
   "cell_type": "code",
   "execution_count": 9,
   "metadata": {},
   "outputs": [
    {
     "data": {
      "text/html": [
       "<div>\n",
       "<style scoped>\n",
       "    .dataframe tbody tr th:only-of-type {\n",
       "        vertical-align: middle;\n",
       "    }\n",
       "\n",
       "    .dataframe tbody tr th {\n",
       "        vertical-align: top;\n",
       "    }\n",
       "\n",
       "    .dataframe thead th {\n",
       "        text-align: right;\n",
       "    }\n",
       "</style>\n",
       "<table border=\"1\" class=\"dataframe\">\n",
       "  <thead>\n",
       "    <tr style=\"text-align: right;\">\n",
       "      <th></th>\n",
       "      <th>Predicted Non Rec</th>\n",
       "      <th>Predicted Rec</th>\n",
       "    </tr>\n",
       "  </thead>\n",
       "  <tbody>\n",
       "    <tr>\n",
       "      <th>Actual Non Rec</th>\n",
       "      <td>6669</td>\n",
       "      <td>1370</td>\n",
       "    </tr>\n",
       "    <tr>\n",
       "      <th>Actual Rec</th>\n",
       "      <td>14313</td>\n",
       "      <td>53062</td>\n",
       "    </tr>\n",
       "  </tbody>\n",
       "</table>\n",
       "</div>"
      ],
      "text/plain": [
       "                Predicted Non Rec  Predicted Rec\n",
       "Actual Non Rec               6669           1370\n",
       "Actual Rec                  14313          53062"
      ]
     },
     "execution_count": 9,
     "metadata": {},
     "output_type": "execute_result"
    }
   ],
   "source": [
    "confusion_matrix = pd.DataFrame(\n",
    "    metrics.confusion_matrix(y_test, y_pred),\n",
    "    columns=['Predicted Non Rec', 'Predicted Rec'],\n",
    "    index=['Actual Non Rec', 'Actual Rec']\n",
    ")\n",
    "confusion_matrix"
   ]
  },
  {
   "cell_type": "code",
   "execution_count": 10,
   "metadata": {},
   "outputs": [
    {
     "name": "stdout",
     "output_type": "stream",
     "text": [
      "             precision    recall  f1-score   support\n",
      "\n",
      "        0.0       0.32      0.83      0.46      8039\n",
      "        1.0       0.97      0.79      0.87     67375\n",
      "\n",
      "avg / total       0.90      0.79      0.83     75414\n",
      "\n"
     ]
    }
   ],
   "source": [
    "print(classification_report(y_test, y_pred))"
   ]
  },
  {
   "cell_type": "code",
   "execution_count": 11,
   "metadata": {},
   "outputs": [
    {
     "data": {
      "image/png": "[encoded data removed]",
      "text/plain": [
       "<matplotlib.figure.Figure at 0x5836ef0>"
      ]
     },
     "metadata": {},
     "output_type": "display_data"
    }
   ],
   "source": [
    "logit_roc_auc = roc_auc_score(y_test, logreg.predict(X_test))\n",
    "fpr, tpr, thresholds = roc_curve(y_test, logreg.predict_proba(X_test)[:,1])\n",
    "plt.figure()\n",
    "plt.plot(fpr, tpr, label='Logistic Regression (area = %0.2f)' % logit_roc_auc)\n",
    "plt.plot([0, 1], [0, 1],'r--')\n",
    "plt.xlim([0.0, 1.0])\n",
    "plt.ylim([0.0, 1.05])\n",
    "plt.xlabel('False Positive Rate')\n",
    "plt.ylabel('True Positive Rate')\n",
    "plt.title('Receiver operating characteristic')\n",
    "plt.legend(loc=\"lower right\")\n",
    "plt.savefig('Log_ROC')\n",
    "plt.show()"
   ]
  },
  {
   "cell_type": "code",
   "execution_count": 12,
   "metadata": {},
   "outputs": [],
   "source": [
    "denom = (2.0*(1.0+np.cosh(logreg.decision_function(X))))\n",
    "denom = np.tile(denom,(X.shape[1],1)).T\n",
    "F_ij = np.dot((X/denom).T,X) ## Fisher Information Matrix\n",
    "Cramer_Rao = np.linalg.inv(F_ij) ## Inverse Information Matrix\n",
    "sigma_estimates = np.array([np.sqrt(Cramer_Rao[i,i]) for i in range(Cramer_Rao.shape[0])]) # sigma for each coefficient\n",
    "z_scores = logreg.coef_[0]/sigma_estimates # z-score for eaach model coefficient\n",
    "p_values = [stat.norm.sf(abs(x))*2 for x in z_scores] ### two tailed test for p-values"
   ]
  },
  {
   "cell_type": "code",
   "execution_count": 13,
   "metadata": {},
   "outputs": [
    {
     "data": {
      "text/html": [
       "<div>\n",
       "<style scoped>\n",
       "    .dataframe tbody tr th:only-of-type {\n",
       "        vertical-align: middle;\n",
       "    }\n",
       "\n",
       "    .dataframe tbody tr th {\n",
       "        vertical-align: top;\n",
       "    }\n",
       "\n",
       "    .dataframe thead th {\n",
       "        text-align: right;\n",
       "    }\n",
       "</style>\n",
       "<table border=\"1\" class=\"dataframe\">\n",
       "  <thead>\n",
       "    <tr style=\"text-align: right;\">\n",
       "      <th></th>\n",
       "      <th>Coeff.</th>\n",
       "      <th>P_Value</th>\n",
       "      <th>Z_Score</th>\n",
       "    </tr>\n",
       "    <tr>\n",
       "      <th>Feature</th>\n",
       "      <th></th>\n",
       "      <th></th>\n",
       "      <th></th>\n",
       "    </tr>\n",
       "  </thead>\n",
       "  <tbody>\n",
       "    <tr>\n",
       "      <th>Profile_Pic_Bool</th>\n",
       "      <td>0.24325</td>\n",
       "      <td>0.00000</td>\n",
       "      <td>17.21007</td>\n",
       "    </tr>\n",
       "    <tr>\n",
       "      <th>User_Rating</th>\n",
       "      <td>1.41803</td>\n",
       "      <td>0.00000</td>\n",
       "      <td>24.50039</td>\n",
       "    </tr>\n",
       "    <tr>\n",
       "      <th>Rev_Avg_Sentiment</th>\n",
       "      <td>-3.41565</td>\n",
       "      <td>0.00000</td>\n",
       "      <td>-20.97765</td>\n",
       "    </tr>\n",
       "    <tr>\n",
       "      <th>TB_polarity</th>\n",
       "      <td>-0.47359</td>\n",
       "      <td>0.00000</td>\n",
       "      <td>-7.17973</td>\n",
       "    </tr>\n",
       "    <tr>\n",
       "      <th>TB_subjectivity</th>\n",
       "      <td>0.47998</td>\n",
       "      <td>0.00000</td>\n",
       "      <td>10.90672</td>\n",
       "    </tr>\n",
       "    <tr>\n",
       "      <th>spam</th>\n",
       "      <td>0.65741</td>\n",
       "      <td>0.00000</td>\n",
       "      <td>19.44062</td>\n",
       "    </tr>\n",
       "    <tr>\n",
       "      <th>Rev_V_Negative</th>\n",
       "      <td>-0.10754</td>\n",
       "      <td>0.00000</td>\n",
       "      <td>-4.60048</td>\n",
       "    </tr>\n",
       "    <tr>\n",
       "      <th>Rev_V_Positive</th>\n",
       "      <td>-0.03317</td>\n",
       "      <td>0.02568</td>\n",
       "      <td>-2.23096</td>\n",
       "    </tr>\n",
       "    <tr>\n",
       "      <th>Edited_Review_Bool</th>\n",
       "      <td>-0.81181</td>\n",
       "      <td>0.00000</td>\n",
       "      <td>-21.79761</td>\n",
       "    </tr>\n",
       "    <tr>\n",
       "      <th>Yelp_Rest_Order</th>\n",
       "      <td>0.20373</td>\n",
       "      <td>0.00000</td>\n",
       "      <td>8.94860</td>\n",
       "    </tr>\n",
       "    <tr>\n",
       "      <th>Ratio_Recommended</th>\n",
       "      <td>6.15679</td>\n",
       "      <td>0.00000</td>\n",
       "      <td>106.78918</td>\n",
       "    </tr>\n",
       "    <tr>\n",
       "      <th>Rest_Address_Words</th>\n",
       "      <td>-0.25586</td>\n",
       "      <td>0.00000</td>\n",
       "      <td>-5.66518</td>\n",
       "    </tr>\n",
       "    <tr>\n",
       "      <th>Rest_Name_Words</th>\n",
       "      <td>-0.18212</td>\n",
       "      <td>0.00000</td>\n",
       "      <td>-4.86438</td>\n",
       "    </tr>\n",
       "    <tr>\n",
       "      <th>User_Rating_Diff</th>\n",
       "      <td>-3.03299</td>\n",
       "      <td>0.00000</td>\n",
       "      <td>-26.11708</td>\n",
       "    </tr>\n",
       "    <tr>\n",
       "      <th>Friends_Log</th>\n",
       "      <td>1.29199</td>\n",
       "      <td>0.00000</td>\n",
       "      <td>46.14996</td>\n",
       "    </tr>\n",
       "    <tr>\n",
       "      <th>Days_Since_10_2004_Log</th>\n",
       "      <td>4.48588</td>\n",
       "      <td>0.00000</td>\n",
       "      <td>62.18743</td>\n",
       "    </tr>\n",
       "    <tr>\n",
       "      <th>Review_Sentence_Log</th>\n",
       "      <td>-13.15102</td>\n",
       "      <td>0.00000</td>\n",
       "      <td>-24.94838</td>\n",
       "    </tr>\n",
       "    <tr>\n",
       "      <th>Tot_Photos_Log</th>\n",
       "      <td>1.29996</td>\n",
       "      <td>0.00000</td>\n",
       "      <td>24.85341</td>\n",
       "    </tr>\n",
       "    <tr>\n",
       "      <th>User_Tot_Reviews_Log</th>\n",
       "      <td>6.14619</td>\n",
       "      <td>0.00000</td>\n",
       "      <td>120.01155</td>\n",
       "    </tr>\n",
       "    <tr>\n",
       "      <th>Rev_Tot_Sentiment_Log</th>\n",
       "      <td>10.98194</td>\n",
       "      <td>0.00000</td>\n",
       "      <td>21.44950</td>\n",
       "    </tr>\n",
       "    <tr>\n",
       "      <th>Tot_Rest_Reviews_Log</th>\n",
       "      <td>-0.10508</td>\n",
       "      <td>0.00847</td>\n",
       "      <td>-2.63271</td>\n",
       "    </tr>\n",
       "    <tr>\n",
       "      <th>Tot_Rest_In_City_Log</th>\n",
       "      <td>-0.35536</td>\n",
       "      <td>0.00000</td>\n",
       "      <td>-6.92579</td>\n",
       "    </tr>\n",
       "    <tr>\n",
       "      <th>Review_Words_Log</th>\n",
       "      <td>3.00192</td>\n",
       "      <td>0.00000</td>\n",
       "      <td>8.91229</td>\n",
       "    </tr>\n",
       "    <tr>\n",
       "      <th>Review_Words_No_Stopwords_Log</th>\n",
       "      <td>3.88218</td>\n",
       "      <td>0.00000</td>\n",
       "      <td>10.72907</td>\n",
       "    </tr>\n",
       "    <tr>\n",
       "      <th>Rev_Dist_Miles_Log</th>\n",
       "      <td>0.49311</td>\n",
       "      <td>0.00000</td>\n",
       "      <td>20.16781</td>\n",
       "    </tr>\n",
       "    <tr>\n",
       "      <th>spellErrorRatio_Log</th>\n",
       "      <td>0.34336</td>\n",
       "      <td>0.01499</td>\n",
       "      <td>2.43259</td>\n",
       "    </tr>\n",
       "    <tr>\n",
       "      <th>toxic_Log</th>\n",
       "      <td>-0.11366</td>\n",
       "      <td>0.26340</td>\n",
       "      <td>-1.11840</td>\n",
       "    </tr>\n",
       "    <tr>\n",
       "      <th>severe_toxic_Log</th>\n",
       "      <td>-0.83446</td>\n",
       "      <td>0.67091</td>\n",
       "      <td>-0.42489</td>\n",
       "    </tr>\n",
       "    <tr>\n",
       "      <th>obscene_Log</th>\n",
       "      <td>-0.09280</td>\n",
       "      <td>0.68424</td>\n",
       "      <td>-0.40668</td>\n",
       "    </tr>\n",
       "    <tr>\n",
       "      <th>threat_Log</th>\n",
       "      <td>-0.87209</td>\n",
       "      <td>0.40785</td>\n",
       "      <td>-0.82768</td>\n",
       "    </tr>\n",
       "    <tr>\n",
       "      <th>insult_Log</th>\n",
       "      <td>-0.32666</td>\n",
       "      <td>0.34180</td>\n",
       "      <td>-0.95062</td>\n",
       "    </tr>\n",
       "    <tr>\n",
       "      <th>identity_hate_Log</th>\n",
       "      <td>-2.42731</td>\n",
       "      <td>0.01269</td>\n",
       "      <td>-2.49226</td>\n",
       "    </tr>\n",
       "    <tr>\n",
       "      <th>readability_FK_Log</th>\n",
       "      <td>-1.97586</td>\n",
       "      <td>0.00000</td>\n",
       "      <td>-6.44791</td>\n",
       "    </tr>\n",
       "    <tr>\n",
       "      <th>readability_AR_Log</th>\n",
       "      <td>1.03423</td>\n",
       "      <td>0.00004</td>\n",
       "      <td>4.10251</td>\n",
       "    </tr>\n",
       "  </tbody>\n",
       "</table>\n",
       "</div>"
      ],
      "text/plain": [
       "                                 Coeff.  P_Value    Z_Score\n",
       "Feature                                                    \n",
       "Profile_Pic_Bool                0.24325  0.00000   17.21007\n",
       "User_Rating                     1.41803  0.00000   24.50039\n",
       "Rev_Avg_Sentiment              -3.41565  0.00000  -20.97765\n",
       "TB_polarity                    -0.47359  0.00000   -7.17973\n",
       "TB_subjectivity                 0.47998  0.00000   10.90672\n",
       "spam                            0.65741  0.00000   19.44062\n",
       "Rev_V_Negative                 -0.10754  0.00000   -4.60048\n",
       "Rev_V_Positive                 -0.03317  0.02568   -2.23096\n",
       "Edited_Review_Bool             -0.81181  0.00000  -21.79761\n",
       "Yelp_Rest_Order                 0.20373  0.00000    8.94860\n",
       "Ratio_Recommended               6.15679  0.00000  106.78918\n",
       "Rest_Address_Words             -0.25586  0.00000   -5.66518\n",
       "Rest_Name_Words                -0.18212  0.00000   -4.86438\n",
       "User_Rating_Diff               -3.03299  0.00000  -26.11708\n",
       "Friends_Log                     1.29199  0.00000   46.14996\n",
       "Days_Since_10_2004_Log          4.48588  0.00000   62.18743\n",
       "Review_Sentence_Log           -13.15102  0.00000  -24.94838\n",
       "Tot_Photos_Log                  1.29996  0.00000   24.85341\n",
       "User_Tot_Reviews_Log            6.14619  0.00000  120.01155\n",
       "Rev_Tot_Sentiment_Log          10.98194  0.00000   21.44950\n",
       "Tot_Rest_Reviews_Log           -0.10508  0.00847   -2.63271\n",
       "Tot_Rest_In_City_Log           -0.35536  0.00000   -6.92579\n",
       "Review_Words_Log                3.00192  0.00000    8.91229\n",
       "Review_Words_No_Stopwords_Log   3.88218  0.00000   10.72907\n",
       "Rev_Dist_Miles_Log              0.49311  0.00000   20.16781\n",
       "spellErrorRatio_Log             0.34336  0.01499    2.43259\n",
       "toxic_Log                      -0.11366  0.26340   -1.11840\n",
       "severe_toxic_Log               -0.83446  0.67091   -0.42489\n",
       "obscene_Log                    -0.09280  0.68424   -0.40668\n",
       "threat_Log                     -0.87209  0.40785   -0.82768\n",
       "insult_Log                     -0.32666  0.34180   -0.95062\n",
       "identity_hate_Log              -2.42731  0.01269   -2.49226\n",
       "readability_FK_Log             -1.97586  0.00000   -6.44791\n",
       "readability_AR_Log              1.03423  0.00004    4.10251"
      ]
     },
     "execution_count": 13,
     "metadata": {},
     "output_type": "execute_result"
    }
   ],
   "source": [
    "data = {'Feature': X.dtypes.index.tolist(), 'Coeff.': logreg.coef_[0].tolist(), 'P_Value': p_values, 'Z_Score': z_scores.tolist()}\n",
    "data\n",
    "df = pd.DataFrame(data=data,index=None)\n",
    "df.round(5).set_index('Feature')"
   ]
  },
  {
   "cell_type": "code",
   "execution_count": 14,
   "metadata": {},
   "outputs": [
    {
     "data": {
      "text/plain": [
       "<matplotlib.figure.Figure at 0xba77710>"
      ]
     },
     "metadata": {},
     "output_type": "display_data"
    },
    {
     "data": {
      "image/png": "[encoded data removed]",
      "text/plain": [
       "<matplotlib.figure.Figure at 0xf672898>"
      ]
     },
     "metadata": {},
     "output_type": "display_data"
    }
   ],
   "source": [
    "plt.figure(figsize = (15,15))\n",
    "df[['Coeff.','Feature']].set_index('Feature').sort_values('Coeff.').plot(kind = 'barh', grid = 1,\n",
    "                                        title ='Logistic Regression Coefficent with Recommended Review')\n",
    "\n",
    "plt.xlabel('Logistic Regression Coefficent')\n",
    "plt.ylabel('Feature')\n",
    "plt.xticks(fontsize=10)\n",
    "plt.yticks(fontsize=10)\n",
    "plt.show()"
   ]
  },
  {
   "cell_type": "code",
   "execution_count": 15,
   "metadata": {},
   "outputs": [],
   "source": [
    "reviews = pd.read_csv('data/ready_data.csv')\n",
    "\n",
    "#remove features if p value greater than 0.05\n",
    "y = reviews['Recommended']\n",
    "X = reviews.copy()\n",
    "X.drop(columns=['Recommended', 'Yelp_Rest_Order', 'obscene_Log', 'severe_toxic_Log',\n",
    "                'threat_Log', 'insult_Log', 'toxic_Log', 'Rev_V_Positive', \n",
    "                'spellErrorRatio_Log', 'identity_hate_Log', 'Tot_Rest_Reviews_Log'], inplace=True)"
   ]
  },
  {
   "cell_type": "code",
   "execution_count": 16,
   "metadata": {},
   "outputs": [
    {
     "name": "stdout",
     "output_type": "stream",
     "text": [
      "Accuracy of logistic regression classifier on test set: 0.79235\n"
     ]
    }
   ],
   "source": [
    "X_train, X_test, y_train, y_test = train_test_split(X, y, test_size=0.3, random_state=0)\n",
    "logreg = LogisticRegression(penalty='l2',class_weight='balanced')\n",
    "logreg.fit(X_train, y_train)\n",
    "y_pred = logreg.predict(X_test)\n",
    "print('Accuracy of logistic regression classifier on test set: {:.5f}'.format(logreg.score(X_test, y_test)))"
   ]
  },
  {
   "cell_type": "code",
   "execution_count": 17,
   "metadata": {},
   "outputs": [
    {
     "name": "stdout",
     "output_type": "stream",
     "text": [
      "10-fold cross validation average accuracy: 0.79152\n"
     ]
    }
   ],
   "source": [
    "kfold = model_selection.KFold(n_splits=10, random_state=7)\n",
    "scoring = 'accuracy'\n",
    "results = model_selection.cross_val_score(logreg, X_train, y_train, cv=kfold, scoring=scoring)\n",
    "print(\"10-fold cross validation average accuracy: %.5f\" % (results.mean()))"
   ]
  },
  {
   "cell_type": "code",
   "execution_count": 18,
   "metadata": {},
   "outputs": [
    {
     "data": {
      "text/html": [
       "<div>\n",
       "<style scoped>\n",
       "    .dataframe tbody tr th:only-of-type {\n",
       "        vertical-align: middle;\n",
       "    }\n",
       "\n",
       "    .dataframe tbody tr th {\n",
       "        vertical-align: top;\n",
       "    }\n",
       "\n",
       "    .dataframe thead th {\n",
       "        text-align: right;\n",
       "    }\n",
       "</style>\n",
       "<table border=\"1\" class=\"dataframe\">\n",
       "  <thead>\n",
       "    <tr style=\"text-align: right;\">\n",
       "      <th></th>\n",
       "      <th>Predicted Non Rec</th>\n",
       "      <th>Predicted Rec</th>\n",
       "    </tr>\n",
       "  </thead>\n",
       "  <tbody>\n",
       "    <tr>\n",
       "      <th>Actual Non Rec</th>\n",
       "      <td>6672</td>\n",
       "      <td>1367</td>\n",
       "    </tr>\n",
       "    <tr>\n",
       "      <th>Actual Rec</th>\n",
       "      <td>14293</td>\n",
       "      <td>53082</td>\n",
       "    </tr>\n",
       "  </tbody>\n",
       "</table>\n",
       "</div>"
      ],
      "text/plain": [
       "                Predicted Non Rec  Predicted Rec\n",
       "Actual Non Rec               6672           1367\n",
       "Actual Rec                  14293          53082"
      ]
     },
     "execution_count": 18,
     "metadata": {},
     "output_type": "execute_result"
    }
   ],
   "source": [
    "confusion_matrix = pd.DataFrame(\n",
    "    metrics.confusion_matrix(y_test, y_pred),\n",
    "    columns=['Predicted Non Rec', 'Predicted Rec'],\n",
    "    index=['Actual Non Rec', 'Actual Rec']\n",
    ")\n",
    "confusion_matrix"
   ]
  },
  {
   "cell_type": "code",
   "execution_count": 19,
   "metadata": {},
   "outputs": [
    {
     "name": "stdout",
     "output_type": "stream",
     "text": [
      "             precision    recall  f1-score   support\n",
      "\n",
      "        0.0       0.32      0.83      0.46      8039\n",
      "        1.0       0.97      0.79      0.87     67375\n",
      "\n",
      "avg / total       0.90      0.79      0.83     75414\n",
      "\n"
     ]
    }
   ],
   "source": [
    "print(classification_report(y_test, y_pred))"
   ]
  },
  {
   "cell_type": "code",
   "execution_count": 20,
   "metadata": {},
   "outputs": [
    {
     "data": {
      "image/png": "[encoded data removed]",
      "text/plain": [
       "<matplotlib.figure.Figure at 0xf6f0a20>"
      ]
     },
     "metadata": {},
     "output_type": "display_data"
    }
   ],
   "source": [
    "logit_roc_auc = roc_auc_score(y_test, logreg.predict(X_test))\n",
    "fpr, tpr, thresholds = roc_curve(y_test, logreg.predict_proba(X_test)[:,1])\n",
    "plt.figure()\n",
    "plt.plot(fpr, tpr, label='Logistic Regression (area = %0.2f)' % logit_roc_auc)\n",
    "plt.plot([0, 1], [0, 1],'r--')\n",
    "plt.xlim([0.0, 1.0])\n",
    "plt.ylim([0.0, 1.05])\n",
    "plt.xlabel('False Positive Rate')\n",
    "plt.ylabel('True Positive Rate')\n",
    "plt.title('Receiver operating characteristic')\n",
    "plt.legend(loc=\"lower right\")\n",
    "plt.savefig('Log_ROC')\n",
    "plt.show()"
   ]
  },
  {
   "cell_type": "code",
   "execution_count": 21,
   "metadata": {},
   "outputs": [],
   "source": [
    "denom = (2.0*(1.0+np.cosh(logreg.decision_function(X))))\n",
    "denom = np.tile(denom,(X.shape[1],1)).T\n",
    "F_ij = np.dot((X/denom).T,X) ## Fisher Information Matrix\n",
    "Cramer_Rao = np.linalg.inv(F_ij) ## Inverse Information Matrix\n",
    "sigma_estimates = np.array([np.sqrt(Cramer_Rao[i,i]) for i in range(Cramer_Rao.shape[0])]) # sigma for each coefficient\n",
    "z_scores = logreg.coef_[0]/sigma_estimates # z-score for eaach model coefficient\n",
    "p_values = [stat.norm.sf(abs(x))*2 for x in z_scores] ### two tailed test for p-values"
   ]
  },
  {
   "cell_type": "code",
   "execution_count": 22,
   "metadata": {},
   "outputs": [
    {
     "data": {
      "text/html": [
       "<div>\n",
       "<style scoped>\n",
       "    .dataframe tbody tr th:only-of-type {\n",
       "        vertical-align: middle;\n",
       "    }\n",
       "\n",
       "    .dataframe tbody tr th {\n",
       "        vertical-align: top;\n",
       "    }\n",
       "\n",
       "    .dataframe thead th {\n",
       "        text-align: right;\n",
       "    }\n",
       "</style>\n",
       "<table border=\"1\" class=\"dataframe\">\n",
       "  <thead>\n",
       "    <tr style=\"text-align: right;\">\n",
       "      <th></th>\n",
       "      <th>Coeff.</th>\n",
       "      <th>P_Value</th>\n",
       "      <th>Z_Score</th>\n",
       "    </tr>\n",
       "    <tr>\n",
       "      <th>Feature</th>\n",
       "      <th></th>\n",
       "      <th></th>\n",
       "      <th></th>\n",
       "    </tr>\n",
       "  </thead>\n",
       "  <tbody>\n",
       "    <tr>\n",
       "      <th>Profile_Pic_Bool</th>\n",
       "      <td>0.24384</td>\n",
       "      <td>0.00000</td>\n",
       "      <td>17.30628</td>\n",
       "    </tr>\n",
       "    <tr>\n",
       "      <th>User_Rating</th>\n",
       "      <td>1.29685</td>\n",
       "      <td>0.00000</td>\n",
       "      <td>23.42455</td>\n",
       "    </tr>\n",
       "    <tr>\n",
       "      <th>Rev_Avg_Sentiment</th>\n",
       "      <td>-3.47447</td>\n",
       "      <td>0.00000</td>\n",
       "      <td>-21.73993</td>\n",
       "    </tr>\n",
       "    <tr>\n",
       "      <th>TB_polarity</th>\n",
       "      <td>-0.45947</td>\n",
       "      <td>0.00000</td>\n",
       "      <td>-7.10555</td>\n",
       "    </tr>\n",
       "    <tr>\n",
       "      <th>TB_subjectivity</th>\n",
       "      <td>0.45460</td>\n",
       "      <td>0.00000</td>\n",
       "      <td>10.44441</td>\n",
       "    </tr>\n",
       "    <tr>\n",
       "      <th>spam</th>\n",
       "      <td>0.66322</td>\n",
       "      <td>0.00000</td>\n",
       "      <td>19.97637</td>\n",
       "    </tr>\n",
       "    <tr>\n",
       "      <th>Rev_V_Negative</th>\n",
       "      <td>-0.11396</td>\n",
       "      <td>0.00000</td>\n",
       "      <td>-4.89002</td>\n",
       "    </tr>\n",
       "    <tr>\n",
       "      <th>Edited_Review_Bool</th>\n",
       "      <td>-0.80837</td>\n",
       "      <td>0.00000</td>\n",
       "      <td>-21.86232</td>\n",
       "    </tr>\n",
       "    <tr>\n",
       "      <th>Ratio_Recommended</th>\n",
       "      <td>6.23444</td>\n",
       "      <td>0.00000</td>\n",
       "      <td>110.14118</td>\n",
       "    </tr>\n",
       "    <tr>\n",
       "      <th>Rest_Address_Words</th>\n",
       "      <td>-0.19040</td>\n",
       "      <td>0.00002</td>\n",
       "      <td>-4.28589</td>\n",
       "    </tr>\n",
       "    <tr>\n",
       "      <th>Rest_Name_Words</th>\n",
       "      <td>-0.18065</td>\n",
       "      <td>0.00000</td>\n",
       "      <td>-4.83915</td>\n",
       "    </tr>\n",
       "    <tr>\n",
       "      <th>User_Rating_Diff</th>\n",
       "      <td>-2.77305</td>\n",
       "      <td>0.00000</td>\n",
       "      <td>-25.01649</td>\n",
       "    </tr>\n",
       "    <tr>\n",
       "      <th>Friends_Log</th>\n",
       "      <td>1.29187</td>\n",
       "      <td>0.00000</td>\n",
       "      <td>46.26739</td>\n",
       "    </tr>\n",
       "    <tr>\n",
       "      <th>Days_Since_10_2004_Log</th>\n",
       "      <td>4.52705</td>\n",
       "      <td>0.00000</td>\n",
       "      <td>63.21366</td>\n",
       "    </tr>\n",
       "    <tr>\n",
       "      <th>Review_Sentence_Log</th>\n",
       "      <td>-13.22482</td>\n",
       "      <td>0.00000</td>\n",
       "      <td>-25.35614</td>\n",
       "    </tr>\n",
       "    <tr>\n",
       "      <th>Tot_Photos_Log</th>\n",
       "      <td>1.29585</td>\n",
       "      <td>0.00000</td>\n",
       "      <td>24.87598</td>\n",
       "    </tr>\n",
       "    <tr>\n",
       "      <th>User_Tot_Reviews_Log</th>\n",
       "      <td>6.14045</td>\n",
       "      <td>0.00000</td>\n",
       "      <td>120.93118</td>\n",
       "    </tr>\n",
       "    <tr>\n",
       "      <th>Rev_Tot_Sentiment_Log</th>\n",
       "      <td>11.01753</td>\n",
       "      <td>0.00000</td>\n",
       "      <td>21.74250</td>\n",
       "    </tr>\n",
       "    <tr>\n",
       "      <th>Tot_Rest_In_City_Log</th>\n",
       "      <td>-0.31666</td>\n",
       "      <td>0.00000</td>\n",
       "      <td>-6.30129</td>\n",
       "    </tr>\n",
       "    <tr>\n",
       "      <th>Review_Words_Log</th>\n",
       "      <td>3.01432</td>\n",
       "      <td>0.00000</td>\n",
       "      <td>9.00599</td>\n",
       "    </tr>\n",
       "    <tr>\n",
       "      <th>Review_Words_No_Stopwords_Log</th>\n",
       "      <td>3.85967</td>\n",
       "      <td>0.00000</td>\n",
       "      <td>10.71553</td>\n",
       "    </tr>\n",
       "    <tr>\n",
       "      <th>Rev_Dist_Miles_Log</th>\n",
       "      <td>0.48182</td>\n",
       "      <td>0.00000</td>\n",
       "      <td>19.78977</td>\n",
       "    </tr>\n",
       "    <tr>\n",
       "      <th>readability_FK_Log</th>\n",
       "      <td>-2.00376</td>\n",
       "      <td>0.00000</td>\n",
       "      <td>-6.57519</td>\n",
       "    </tr>\n",
       "    <tr>\n",
       "      <th>readability_AR_Log</th>\n",
       "      <td>1.10736</td>\n",
       "      <td>0.00001</td>\n",
       "      <td>4.41898</td>\n",
       "    </tr>\n",
       "  </tbody>\n",
       "</table>\n",
       "</div>"
      ],
      "text/plain": [
       "                                 Coeff.  P_Value    Z_Score\n",
       "Feature                                                    \n",
       "Profile_Pic_Bool                0.24384  0.00000   17.30628\n",
       "User_Rating                     1.29685  0.00000   23.42455\n",
       "Rev_Avg_Sentiment              -3.47447  0.00000  -21.73993\n",
       "TB_polarity                    -0.45947  0.00000   -7.10555\n",
       "TB_subjectivity                 0.45460  0.00000   10.44441\n",
       "spam                            0.66322  0.00000   19.97637\n",
       "Rev_V_Negative                 -0.11396  0.00000   -4.89002\n",
       "Edited_Review_Bool             -0.80837  0.00000  -21.86232\n",
       "Ratio_Recommended               6.23444  0.00000  110.14118\n",
       "Rest_Address_Words             -0.19040  0.00002   -4.28589\n",
       "Rest_Name_Words                -0.18065  0.00000   -4.83915\n",
       "User_Rating_Diff               -2.77305  0.00000  -25.01649\n",
       "Friends_Log                     1.29187  0.00000   46.26739\n",
       "Days_Since_10_2004_Log          4.52705  0.00000   63.21366\n",
       "Review_Sentence_Log           -13.22482  0.00000  -25.35614\n",
       "Tot_Photos_Log                  1.29585  0.00000   24.87598\n",
       "User_Tot_Reviews_Log            6.14045  0.00000  120.93118\n",
       "Rev_Tot_Sentiment_Log          11.01753  0.00000   21.74250\n",
       "Tot_Rest_In_City_Log           -0.31666  0.00000   -6.30129\n",
       "Review_Words_Log                3.01432  0.00000    9.00599\n",
       "Review_Words_No_Stopwords_Log   3.85967  0.00000   10.71553\n",
       "Rev_Dist_Miles_Log              0.48182  0.00000   19.78977\n",
       "readability_FK_Log             -2.00376  0.00000   -6.57519\n",
       "readability_AR_Log              1.10736  0.00001    4.41898"
      ]
     },
     "execution_count": 22,
     "metadata": {},
     "output_type": "execute_result"
    }
   ],
   "source": [
    "data = {'Feature': X.dtypes.index.tolist(), 'Coeff.': logreg.coef_[0].tolist(), 'P_Value': p_values, 'Z_Score': z_scores.tolist()}\n",
    "data\n",
    "df = pd.DataFrame(data=data,index=None)\n",
    "df.round(5).set_index('Feature')"
   ]
  },
  {
   "cell_type": "code",
   "execution_count": 25,
   "metadata": {},
   "outputs": [
    {
     "data": {
      "text/plain": [
       "<matplotlib.figure.Figure at 0xd224ac8>"
      ]
     },
     "metadata": {},
     "output_type": "display_data"
    },
    {
     "data": {
      "image/png": "[encoded data removed]",
      "text/plain": [
       "<matplotlib.figure.Figure at 0xd1106a0>"
      ]
     },
     "metadata": {},
     "output_type": "display_data"
    }
   ],
   "source": [
    "plt.figure(figsize = (15,15))\n",
    "df[['Coeff.','Feature']].set_index('Feature').sort_values('Coeff.').plot(kind = 'barh', grid = 1,\n",
    "                                        title ='Logistic Regression Coefficent with Recommended Review')\n",
    "\n",
    "plt.xlabel('Logistic Regression Coefficent')\n",
    "plt.ylabel('Feature')\n",
    "plt.xticks(fontsize=10)\n",
    "plt.yticks(fontsize=10)\n",
    "plt.show()"
   ]
  },
  {
   "cell_type": "code",
   "execution_count": null,
   "metadata": {},
   "outputs": [],
   "source": []
  },
  {
   "cell_type": "code",
   "execution_count": null,
   "metadata": {},
   "outputs": [],
   "source": []
  },
  {
   "cell_type": "code",
   "execution_count": null,
   "metadata": {},
   "outputs": [],
   "source": []
  },
  {
   "cell_type": "code",
   "execution_count": null,
   "metadata": {},
   "outputs": [],
   "source": [
    "confusion_matrix = pd.DataFrame(\n",
    "    metrics.confusion_matrix(y_test, y_pred),\n",
    "    columns=['Predicted Non Rec', 'Predicted Rec'],\n",
    "    index=['Actual Non Rec', 'Actual Rec']\n",
    ")"
   ]
  },
  {
   "cell_type": "code",
   "execution_count": 3,
   "metadata": {},
   "outputs": [
    {
     "name": "stdout",
     "output_type": "stream",
     "text": [
      "Optimization terminated successfully.\n",
      "         Current function value: 0.486006\n",
      "         Iterations 7\n"
     ]
    },
    {
     "data": {
      "text/html": [
       "<table class=\"simpletable\">\n",
       "<tr>\n",
       "        <td>Model:</td>              <td>Logit</td>       <td>No. Iterations:</td>    <td>7.0000</td>  \n",
       "</tr>\n",
       "<tr>\n",
       "  <td>Dependent Variable:</td>    <td>Recommended</td>   <td>Pseudo R-squared:</td>    <td>0.299</td>  \n",
       "</tr>\n",
       "<tr>\n",
       "         <td>Date:</td>        <td>2018-06-23 00:01</td>       <td>AIC:</td>        <td>51868.4764</td>\n",
       "</tr>\n",
       "<tr>\n",
       "   <td>No. Observations:</td>        <td>53292</td>            <td>BIC:</td>        <td>52170.5168</td>\n",
       "</tr>\n",
       "<tr>\n",
       "       <td>Df Model:</td>             <td>33</td>         <td>Log-Likelihood:</td>    <td>-25900.</td> \n",
       "</tr>\n",
       "<tr>\n",
       "     <td>Df Residuals:</td>          <td>53258</td>          <td>LL-Null:</td>        <td>-36939.</td> \n",
       "</tr>\n",
       "<tr>\n",
       "      <td>Converged:</td>           <td>1.0000</td>           <td>Scale:</td>         <td>1.0000</td>  \n",
       "</tr>\n",
       "</table>\n",
       "<table class=\"simpletable\">\n",
       "<tr>\n",
       "                <td></td>                  <th>Coef.</th>  <th>Std.Err.</th>     <th>z</th>     <th>P>|z|</th>  <th>[0.025</th>   <th>0.975]</th> \n",
       "</tr>\n",
       "<tr>\n",
       "  <th>Profile_Pic_Bool</th>               <td>0.1450</td>   <td>0.0255</td>   <td>5.6960</td>  <td>0.0000</td>  <td>0.0951</td>   <td>0.1949</td> \n",
       "</tr>\n",
       "<tr>\n",
       "  <th>User_Rating</th>                    <td>0.8624</td>   <td>0.1072</td>   <td>8.0480</td>  <td>0.0000</td>  <td>0.6524</td>   <td>1.0724</td> \n",
       "</tr>\n",
       "<tr>\n",
       "  <th>Rev_Avg_Sentiment</th>              <td>-7.1940</td>  <td>0.2986</td>  <td>-24.0963</td> <td>0.0000</td>  <td>-7.7792</td>  <td>-6.6089</td>\n",
       "</tr>\n",
       "<tr>\n",
       "  <th>TB_polarity</th>                    <td>-0.8589</td>  <td>0.1196</td>   <td>-7.1813</td> <td>0.0000</td>  <td>-1.0934</td>  <td>-0.6245</td>\n",
       "</tr>\n",
       "<tr>\n",
       "  <th>TB_subjectivity</th>                <td>0.4177</td>   <td>0.0797</td>   <td>5.2424</td>  <td>0.0000</td>  <td>0.2615</td>   <td>0.5739</td> \n",
       "</tr>\n",
       "<tr>\n",
       "  <th>spam</th>                           <td>0.1289</td>   <td>0.0677</td>   <td>1.9028</td>  <td>0.0571</td>  <td>-0.0039</td>  <td>0.2616</td> \n",
       "</tr>\n",
       "<tr>\n",
       "  <th>Rev_V_Negative</th>                 <td>0.0905</td>   <td>0.0486</td>   <td>1.8626</td>  <td>0.0625</td>  <td>-0.0047</td>  <td>0.1857</td> \n",
       "</tr>\n",
       "<tr>\n",
       "  <th>Rev_V_Positive</th>                 <td>0.0584</td>   <td>0.0284</td>   <td>2.0554</td>  <td>0.0398</td>  <td>0.0027</td>   <td>0.1141</td> \n",
       "</tr>\n",
       "<tr>\n",
       "  <th>Edited_Review_Bool</th>             <td>-0.7341</td>  <td>0.0694</td>  <td>-10.5717</td> <td>0.0000</td>  <td>-0.8702</td>  <td>-0.5980</td>\n",
       "</tr>\n",
       "<tr>\n",
       "  <th>Yelp_Rest_Order</th>                <td>-0.0136</td>  <td>0.0470</td>   <td>-0.2905</td> <td>0.7715</td>  <td>-0.1057</td>  <td>0.0784</td> \n",
       "</tr>\n",
       "<tr>\n",
       "  <th>Ratio_Recommended</th>              <td>-1.4360</td>  <td>0.0798</td>  <td>-17.9888</td> <td>0.0000</td>  <td>-1.5925</td>  <td>-1.2796</td>\n",
       "</tr>\n",
       "<tr>\n",
       "  <th>Rest_Address_Words</th>             <td>-0.0998</td>  <td>0.0866</td>   <td>-1.1524</td> <td>0.2492</td>  <td>-0.2694</td>  <td>0.0699</td> \n",
       "</tr>\n",
       "<tr>\n",
       "  <th>Rest_Name_Words</th>                <td>-0.1906</td>  <td>0.0718</td>   <td>-2.6542</td> <td>0.0079</td>  <td>-0.3313</td>  <td>-0.0498</td>\n",
       "</tr>\n",
       "<tr>\n",
       "  <th>User_Rating_Diff</th>               <td>-2.3083</td>  <td>0.2098</td>  <td>-11.0001</td> <td>0.0000</td>  <td>-2.7196</td>  <td>-1.8970</td>\n",
       "</tr>\n",
       "<tr>\n",
       "  <th>Friends_Log</th>                    <td>1.1016</td>   <td>0.0546</td>   <td>20.1843</td> <td>0.0000</td>  <td>0.9946</td>   <td>1.2086</td> \n",
       "</tr>\n",
       "<tr>\n",
       "  <th>Days_Since_10_2004_Log</th>         <td>1.6521</td>   <td>0.1207</td>   <td>13.6915</td> <td>0.0000</td>  <td>1.4156</td>   <td>1.8886</td> \n",
       "</tr>\n",
       "<tr>\n",
       "  <th>Review_Sentence_Log</th>           <td>-23.7450</td>  <td>0.9404</td>  <td>-25.2509</td> <td>0.0000</td> <td>-25.5880</td> <td>-21.9019</td>\n",
       "</tr>\n",
       "<tr>\n",
       "  <th>Tot_Photos_Log</th>                 <td>1.3711</td>   <td>0.1112</td>   <td>12.3297</td> <td>0.0000</td>  <td>1.1531</td>   <td>1.5890</td> \n",
       "</tr>\n",
       "<tr>\n",
       "  <th>User_Tot_Reviews_Log</th>           <td>6.0485</td>   <td>0.1015</td>   <td>59.5814</td> <td>0.0000</td>  <td>5.8495</td>   <td>6.2475</td> \n",
       "</tr>\n",
       "<tr>\n",
       "  <th>Rev_Tot_Sentiment_Log</th>          <td>22.6226</td>  <td>0.9417</td>   <td>24.0219</td> <td>0.0000</td>  <td>20.7768</td>  <td>24.4684</td>\n",
       "</tr>\n",
       "<tr>\n",
       "  <th>Tot_Rest_Reviews_Log</th>           <td>-0.9630</td>  <td>0.0691</td>  <td>-13.9269</td> <td>0.0000</td>  <td>-1.0985</td>  <td>-0.8275</td>\n",
       "</tr>\n",
       "<tr>\n",
       "  <th>Tot_Rest_In_City_Log</th>           <td>-0.6876</td>  <td>0.1025</td>   <td>-6.7058</td> <td>0.0000</td>  <td>-0.8886</td>  <td>-0.4866</td>\n",
       "</tr>\n",
       "<tr>\n",
       "  <th>Review_Words_Log</th>               <td>0.9399</td>   <td>0.5892</td>   <td>1.5952</td>  <td>0.1107</td>  <td>-0.2149</td>  <td>2.0948</td> \n",
       "</tr>\n",
       "<tr>\n",
       "  <th>Review_Words_No_Stopwords_Log</th>  <td>4.6747</td>   <td>0.6403</td>   <td>7.3005</td>  <td>0.0000</td>  <td>3.4197</td>   <td>5.9297</td> \n",
       "</tr>\n",
       "<tr>\n",
       "  <th>Rev_Dist_Miles_Log</th>             <td>0.7077</td>   <td>0.0474</td>   <td>14.9163</td> <td>0.0000</td>  <td>0.6147</td>   <td>0.8007</td> \n",
       "</tr>\n",
       "<tr>\n",
       "  <th>spellErrorRatio_Log</th>            <td>0.4889</td>   <td>0.2316</td>   <td>2.1111</td>  <td>0.0348</td>  <td>0.0350</td>   <td>0.9429</td> \n",
       "</tr>\n",
       "<tr>\n",
       "  <th>toxic_Log</th>                      <td>-0.1824</td>  <td>0.1949</td>   <td>-0.9358</td> <td>0.3494</td>  <td>-0.5645</td>  <td>0.1997</td> \n",
       "</tr>\n",
       "<tr>\n",
       "  <th>severe_toxic_Log</th>              <td>-10.9604</td>  <td>4.1465</td>   <td>-2.6433</td> <td>0.0082</td> <td>-19.0873</td>  <td>-2.8335</td>\n",
       "</tr>\n",
       "<tr>\n",
       "  <th>obscene_Log</th>                    <td>0.2033</td>   <td>0.4102</td>   <td>0.4956</td>  <td>0.6202</td>  <td>-0.6007</td>  <td>1.0072</td> \n",
       "</tr>\n",
       "<tr>\n",
       "  <th>threat_Log</th>                     <td>1.0774</td>   <td>1.8736</td>   <td>0.5751</td>  <td>0.5653</td>  <td>-2.5948</td>  <td>4.7497</td> \n",
       "</tr>\n",
       "<tr>\n",
       "  <th>insult_Log</th>                     <td>-0.3294</td>  <td>0.6199</td>   <td>-0.5314</td> <td>0.5952</td>  <td>-1.5444</td>  <td>0.8856</td> \n",
       "</tr>\n",
       "<tr>\n",
       "  <th>identity_hate_Log</th>              <td>-1.3134</td>  <td>1.4431</td>   <td>-0.9101</td> <td>0.3627</td>  <td>-4.1418</td>  <td>1.5150</td> \n",
       "</tr>\n",
       "<tr>\n",
       "  <th>readability_FK_Log</th>             <td>-0.4496</td>  <td>0.5036</td>   <td>-0.8927</td> <td>0.3720</td>  <td>-1.4368</td>  <td>0.5375</td> \n",
       "</tr>\n",
       "<tr>\n",
       "  <th>readability_AR_Log</th>             <td>-0.3097</td>  <td>0.3731</td>   <td>-0.8300</td> <td>0.4066</td>  <td>-1.0409</td>  <td>0.4216</td> \n",
       "</tr>\n",
       "</table>"
      ],
      "text/plain": [
       "<class 'statsmodels.iolib.summary2.Summary'>\n",
       "\"\"\"\n",
       "                                 Results: Logit\n",
       "=================================================================================\n",
       "Model:                    Logit                 No. Iterations:        7.0000    \n",
       "Dependent Variable:       Recommended           Pseudo R-squared:      0.299     \n",
       "Date:                     2018-06-23 00:01      AIC:                   51868.4764\n",
       "No. Observations:         53292                 BIC:                   52170.5168\n",
       "Df Model:                 33                    Log-Likelihood:        -25900.   \n",
       "Df Residuals:             53258                 LL-Null:               -36939.   \n",
       "Converged:                1.0000                Scale:                 1.0000    \n",
       "---------------------------------------------------------------------------------\n",
       "                               Coef.   Std.Err.    z     P>|z|   [0.025   0.975] \n",
       "---------------------------------------------------------------------------------\n",
       "Profile_Pic_Bool                0.1450   0.0255   5.6960 0.0000   0.0951   0.1949\n",
       "User_Rating                     0.8624   0.1072   8.0480 0.0000   0.6524   1.0724\n",
       "Rev_Avg_Sentiment              -7.1940   0.2986 -24.0963 0.0000  -7.7792  -6.6089\n",
       "TB_polarity                    -0.8589   0.1196  -7.1813 0.0000  -1.0934  -0.6245\n",
       "TB_subjectivity                 0.4177   0.0797   5.2424 0.0000   0.2615   0.5739\n",
       "spam                            0.1289   0.0677   1.9028 0.0571  -0.0039   0.2616\n",
       "Rev_V_Negative                  0.0905   0.0486   1.8626 0.0625  -0.0047   0.1857\n",
       "Rev_V_Positive                  0.0584   0.0284   2.0554 0.0398   0.0027   0.1141\n",
       "Edited_Review_Bool             -0.7341   0.0694 -10.5717 0.0000  -0.8702  -0.5980\n",
       "Yelp_Rest_Order                -0.0136   0.0470  -0.2905 0.7715  -0.1057   0.0784\n",
       "Ratio_Recommended              -1.4360   0.0798 -17.9888 0.0000  -1.5925  -1.2796\n",
       "Rest_Address_Words             -0.0998   0.0866  -1.1524 0.2492  -0.2694   0.0699\n",
       "Rest_Name_Words                -0.1906   0.0718  -2.6542 0.0079  -0.3313  -0.0498\n",
       "User_Rating_Diff               -2.3083   0.2098 -11.0001 0.0000  -2.7196  -1.8970\n",
       "Friends_Log                     1.1016   0.0546  20.1843 0.0000   0.9946   1.2086\n",
       "Days_Since_10_2004_Log          1.6521   0.1207  13.6915 0.0000   1.4156   1.8886\n",
       "Review_Sentence_Log           -23.7450   0.9404 -25.2509 0.0000 -25.5880 -21.9019\n",
       "Tot_Photos_Log                  1.3711   0.1112  12.3297 0.0000   1.1531   1.5890\n",
       "User_Tot_Reviews_Log            6.0485   0.1015  59.5814 0.0000   5.8495   6.2475\n",
       "Rev_Tot_Sentiment_Log          22.6226   0.9417  24.0219 0.0000  20.7768  24.4684\n",
       "Tot_Rest_Reviews_Log           -0.9630   0.0691 -13.9269 0.0000  -1.0985  -0.8275\n",
       "Tot_Rest_In_City_Log           -0.6876   0.1025  -6.7058 0.0000  -0.8886  -0.4866\n",
       "Review_Words_Log                0.9399   0.5892   1.5952 0.1107  -0.2149   2.0948\n",
       "Review_Words_No_Stopwords_Log   4.6747   0.6403   7.3005 0.0000   3.4197   5.9297\n",
       "Rev_Dist_Miles_Log              0.7077   0.0474  14.9163 0.0000   0.6147   0.8007\n",
       "spellErrorRatio_Log             0.4889   0.2316   2.1111 0.0348   0.0350   0.9429\n",
       "toxic_Log                      -0.1824   0.1949  -0.9358 0.3494  -0.5645   0.1997\n",
       "severe_toxic_Log              -10.9604   4.1465  -2.6433 0.0082 -19.0873  -2.8335\n",
       "obscene_Log                     0.2033   0.4102   0.4956 0.6202  -0.6007   1.0072\n",
       "threat_Log                      1.0774   1.8736   0.5751 0.5653  -2.5948   4.7497\n",
       "insult_Log                     -0.3294   0.6199  -0.5314 0.5952  -1.5444   0.8856\n",
       "identity_hate_Log              -1.3134   1.4431  -0.9101 0.3627  -4.1418   1.5150\n",
       "readability_FK_Log             -0.4496   0.5036  -0.8927 0.3720  -1.4368   0.5375\n",
       "readability_AR_Log             -0.3097   0.3731  -0.8300 0.4066  -1.0409   0.4216\n",
       "=================================================================================\n",
       "\n",
       "\"\"\""
      ]
     },
     "execution_count": 3,
     "metadata": {},
     "output_type": "execute_result"
    }
   ],
   "source": [
    "model = sm.Logit(endog=y, exog=X, missing='raise').fit()\n",
    "y_pred_proba = model.predict(X)\n",
    "model.summary2()"
   ]
  },
  {
   "cell_type": "markdown",
   "metadata": {},
   "source": [
    "# ROC curve"
   ]
  },
  {
   "cell_type": "code",
   "execution_count": 4,
   "metadata": {},
   "outputs": [
    {
     "data": {
      "text/plain": [
       "<matplotlib.legend.Legend at 0xbcbb748>"
      ]
     },
     "execution_count": 4,
     "metadata": {},
     "output_type": "execute_result"
    },
    {
     "data": {
      "image/png": "[encoded data removed]",
      "text/plain": [
       "<matplotlib.figure.Figure at 0xb814cc0>"
      ]
     },
     "metadata": {},
     "output_type": "display_data"
    }
   ],
   "source": [
    "fpr, tpr, _ = metrics.roc_curve(y,  y_pred_proba)\n",
    "auc = metrics.roc_auc_score(y, y_pred_proba)\n",
    "plt.plot(fpr, tpr, label=\"auc=\"+str(auc))\n",
    "plt.legend(loc=4)"
   ]
  },
  {
   "cell_type": "markdown",
   "metadata": {},
   "source": [
    "# Choose a threshold value"
   ]
  },
  {
   "cell_type": "code",
   "execution_count": 5,
   "metadata": {},
   "outputs": [],
   "source": [
    "threshold = .5\n",
    "y_pred = (y_pred_proba > threshold).astype(int)"
   ]
  },
  {
   "cell_type": "code",
   "execution_count": 6,
   "metadata": {},
   "outputs": [
    {
     "name": "stdout",
     "output_type": "stream",
     "text": [
      "Accuracy Score: 0.7710913457929895\n",
      "--------------------------------------------------\n",
      "F1 Score: 0.7621146233497785\n",
      "--------------------------------------------------\n",
      "Precision: 0.7932210269941141\n",
      "--------------------------------------------------\n",
      "Recall: 0.7333558507843578\n",
      "--------------------------------------------------\n"
     ]
    },
    {
     "data": {
      "text/html": [
       "<div>\n",
       "<style scoped>\n",
       "    .dataframe tbody tr th:only-of-type {\n",
       "        vertical-align: middle;\n",
       "    }\n",
       "\n",
       "    .dataframe tbody tr th {\n",
       "        vertical-align: top;\n",
       "    }\n",
       "\n",
       "    .dataframe thead th {\n",
       "        text-align: right;\n",
       "    }\n",
       "</style>\n",
       "<table border=\"1\" class=\"dataframe\">\n",
       "  <thead>\n",
       "    <tr style=\"text-align: right;\">\n",
       "      <th></th>\n",
       "      <th>Predicted Non Rec</th>\n",
       "      <th>Predicted Rec</th>\n",
       "    </tr>\n",
       "  </thead>\n",
       "  <tbody>\n",
       "    <tr>\n",
       "      <th>Actual Non Rec</th>\n",
       "      <td>21552</td>\n",
       "      <td>5094</td>\n",
       "    </tr>\n",
       "    <tr>\n",
       "      <th>Actual Rec</th>\n",
       "      <td>7105</td>\n",
       "      <td>19541</td>\n",
       "    </tr>\n",
       "  </tbody>\n",
       "</table>\n",
       "</div>"
      ],
      "text/plain": [
       "                Predicted Non Rec  Predicted Rec\n",
       "Actual Non Rec              21552           5094\n",
       "Actual Rec                   7105          19541"
      ]
     },
     "execution_count": 6,
     "metadata": {},
     "output_type": "execute_result"
    }
   ],
   "source": [
    "print('Accuracy Score:', metrics.accuracy_score(y, y_pred))\n",
    "print('-'*50)\n",
    "print('F1 Score:', metrics.f1_score(y, y_pred))\n",
    "print('-'*50)\n",
    "print('Precision:', metrics.precision_score(y, y_pred))\n",
    "print('-'*50)\n",
    "print('Recall:', metrics.recall_score(y, y_pred))\n",
    "print('-'*50)\n",
    "confusion_matrix = pd.DataFrame(\n",
    "    metrics.confusion_matrix(y, y_pred),\n",
    "    columns=['Predicted Non Rec', 'Predicted Rec'],\n",
    "    index=['Actual Non Rec', 'Actual Rec']\n",
    ")\n",
    "confusion_matrix"
   ]
  },
  {
   "cell_type": "markdown",
   "metadata": {},
   "source": [
    "# Coefficient plot on scaled features linear Regression"
   ]
  },
  {
   "cell_type": "code",
   "execution_count": 7,
   "metadata": {
    "scrolled": false
   },
   "outputs": [
    {
     "data": {
      "image/png": "[encoded data removed]",
      "text/plain": [
       "<matplotlib.figure.Figure at 0xb7d0390>"
      ]
     },
     "metadata": {},
     "output_type": "display_data"
    }
   ],
   "source": [
    "plt.figure(figsize = (15,10))\n",
    "model.params[~model.params.index.isin(['Intercept'])].sort_values().plot(kind = 'barh', grid = 1, \n",
    "                                        title ='Logistic Regression Coefficent with Recommended Review')\n",
    "\n",
    "plt.xlabel('Logistic Regression Coefficent', fontsize=14)\n",
    "plt.xticks(fontsize=14)\n",
    "plt.yticks(fontsize=14)\n",
    "plt.show()"
   ]
  },
  {
   "cell_type": "markdown",
   "metadata": {},
   "source": [
    "# <span style=\"color:blue\">   Interpretation of model coefficients\n",
    "\n",
    "## For the feature that is not log-transformed:\n",
    "- Run 'Scale back' calculation using a value between 0 and 1, and get the feeling of the original value range\n",
    "- Run 'Scale value' twice using reasonable values based on the previous step.  Double the amount of input values and tell how much the change of being 'regular' increased or decreased.\n",
    "\n",
    "## For the feature that is log-transformed:\n",
    "- Run 'Scale back' calculation using the correspondig coefficient value for a feature\n",
    "- Say that multiplying the feature by 'e' increase the chance of 'regular' being 1 by the 'scale back' value."
   ]
  },
  {
   "cell_type": "markdown",
   "metadata": {},
   "source": [
    "### TBD:   type interpretation here once the final model is determined"
   ]
  },
  {
   "cell_type": "markdown",
   "metadata": {},
   "source": [
    "# Read data again, with insignificant features removed"
   ]
  },
  {
   "cell_type": "code",
   "execution_count": 8,
   "metadata": {},
   "outputs": [],
   "source": [
    "reviews = pd.read_csv('data/ready_data.csv')\n",
    "\n",
    "#remove features if p value greater than 0.05\n",
    "y = reviews['Recommended']\n",
    "X = reviews.copy()\n",
    "X.drop(columns=['Recommended', 'Yelp_Rest_Order', 'obscene_Log', 'insult_Log', 'threat_Log', \n",
    "                'readability_AR_Log', 'readability_FK_Log', 'identity_hate_Log', 'toxic_Log', \n",
    "                'Rest_Address_Words', 'Review_Words_Log', 'Rev_V_Negative', 'spam', \n",
    "                'spellErrorRatio_Log', 'Rest_Name_Words', 'Rev_V_Positive', ], inplace=True)"
   ]
  },
  {
   "cell_type": "markdown",
   "metadata": {},
   "source": [
    "# Logistic Regression"
   ]
  },
  {
   "cell_type": "code",
   "execution_count": 9,
   "metadata": {},
   "outputs": [
    {
     "name": "stdout",
     "output_type": "stream",
     "text": [
      "Optimization terminated successfully.\n",
      "         Current function value: 0.486333\n",
      "         Iterations 7\n"
     ]
    },
    {
     "data": {
      "text/html": [
       "<table class=\"simpletable\">\n",
       "<tr>\n",
       "        <td>Model:</td>              <td>Logit</td>       <td>No. Iterations:</td>    <td>7.0000</td>  \n",
       "</tr>\n",
       "<tr>\n",
       "  <td>Dependent Variable:</td>    <td>Recommended</td>   <td>Pseudo R-squared:</td>    <td>0.298</td>  \n",
       "</tr>\n",
       "<tr>\n",
       "         <td>Date:</td>        <td>2018-06-23 00:01</td>       <td>AIC:</td>        <td>51873.3193</td>\n",
       "</tr>\n",
       "<tr>\n",
       "   <td>No. Observations:</td>        <td>53292</td>            <td>BIC:</td>        <td>52042.1066</td>\n",
       "</tr>\n",
       "<tr>\n",
       "       <td>Df Model:</td>             <td>18</td>         <td>Log-Likelihood:</td>    <td>-25918.</td> \n",
       "</tr>\n",
       "<tr>\n",
       "     <td>Df Residuals:</td>          <td>53273</td>          <td>LL-Null:</td>        <td>-36939.</td> \n",
       "</tr>\n",
       "<tr>\n",
       "      <td>Converged:</td>           <td>1.0000</td>           <td>Scale:</td>         <td>1.0000</td>  \n",
       "</tr>\n",
       "</table>\n",
       "<table class=\"simpletable\">\n",
       "<tr>\n",
       "                <td></td>                  <th>Coef.</th>  <th>Std.Err.</th>     <th>z</th>     <th>P>|z|</th>  <th>[0.025</th>   <th>0.975]</th> \n",
       "</tr>\n",
       "<tr>\n",
       "  <th>Profile_Pic_Bool</th>               <td>0.1438</td>   <td>0.0254</td>   <td>5.6542</td>  <td>0.0000</td>  <td>0.0939</td>   <td>0.1936</td> \n",
       "</tr>\n",
       "<tr>\n",
       "  <th>User_Rating</th>                    <td>0.8848</td>   <td>0.1038</td>   <td>8.5249</td>  <td>0.0000</td>  <td>0.6813</td>   <td>1.0882</td> \n",
       "</tr>\n",
       "<tr>\n",
       "  <th>Rev_Avg_Sentiment</th>              <td>-7.2554</td>  <td>0.2811</td>  <td>-25.8101</td> <td>0.0000</td>  <td>-7.8064</td>  <td>-6.7045</td>\n",
       "</tr>\n",
       "<tr>\n",
       "  <th>TB_polarity</th>                    <td>-0.8466</td>  <td>0.1177</td>   <td>-7.1918</td> <td>0.0000</td>  <td>-1.0773</td>  <td>-0.6159</td>\n",
       "</tr>\n",
       "<tr>\n",
       "  <th>TB_subjectivity</th>                <td>0.3762</td>   <td>0.0778</td>   <td>4.8369</td>  <td>0.0000</td>  <td>0.2237</td>   <td>0.5286</td> \n",
       "</tr>\n",
       "<tr>\n",
       "  <th>Edited_Review_Bool</th>             <td>-0.7254</td>  <td>0.0691</td>  <td>-10.4970</td> <td>0.0000</td>  <td>-0.8608</td>  <td>-0.5899</td>\n",
       "</tr>\n",
       "<tr>\n",
       "  <th>Ratio_Recommended</th>              <td>-1.4251</td>  <td>0.0766</td>  <td>-18.5974</td> <td>0.0000</td>  <td>-1.5753</td>  <td>-1.2749</td>\n",
       "</tr>\n",
       "<tr>\n",
       "  <th>User_Rating_Diff</th>               <td>-2.3595</td>  <td>0.2029</td>  <td>-11.6288</td> <td>0.0000</td>  <td>-2.7572</td>  <td>-1.9618</td>\n",
       "</tr>\n",
       "<tr>\n",
       "  <th>Friends_Log</th>                    <td>1.0997</td>   <td>0.0545</td>   <td>20.1674</td> <td>0.0000</td>  <td>0.9928</td>   <td>1.2066</td> \n",
       "</tr>\n",
       "<tr>\n",
       "  <th>Days_Since_10_2004_Log</th>         <td>1.5108</td>   <td>0.1112</td>   <td>13.5866</td> <td>0.0000</td>  <td>1.2928</td>   <td>1.7287</td> \n",
       "</tr>\n",
       "<tr>\n",
       "  <th>Review_Sentence_Log</th>           <td>-23.6377</td>  <td>0.8997</td>  <td>-26.2734</td> <td>0.0000</td> <td>-25.4011</td> <td>-21.8744</td>\n",
       "</tr>\n",
       "<tr>\n",
       "  <th>Tot_Photos_Log</th>                 <td>1.3772</td>   <td>0.1108</td>   <td>12.4244</td> <td>0.0000</td>  <td>1.1600</td>   <td>1.5945</td> \n",
       "</tr>\n",
       "<tr>\n",
       "  <th>User_Tot_Reviews_Log</th>           <td>6.0533</td>   <td>0.1009</td>   <td>60.0120</td> <td>0.0000</td>  <td>5.8556</td>   <td>6.2510</td> \n",
       "</tr>\n",
       "<tr>\n",
       "  <th>Rev_Tot_Sentiment_Log</th>          <td>22.8509</td>  <td>0.8813</td>   <td>25.9298</td> <td>0.0000</td>  <td>21.1236</td>  <td>24.5781</td>\n",
       "</tr>\n",
       "<tr>\n",
       "  <th>Tot_Rest_Reviews_Log</th>           <td>-0.9890</td>  <td>0.0672</td>  <td>-14.7193</td> <td>0.0000</td>  <td>-1.1206</td>  <td>-0.8573</td>\n",
       "</tr>\n",
       "<tr>\n",
       "  <th>Tot_Rest_In_City_Log</th>           <td>-0.7200</td>  <td>0.0962</td>   <td>-7.4815</td> <td>0.0000</td>  <td>-0.9086</td>  <td>-0.5314</td>\n",
       "</tr>\n",
       "<tr>\n",
       "  <th>Review_Words_No_Stopwords_Log</th>  <td>5.3002</td>   <td>0.1704</td>   <td>31.0981</td> <td>0.0000</td>  <td>4.9661</td>   <td>5.6342</td> \n",
       "</tr>\n",
       "<tr>\n",
       "  <th>Rev_Dist_Miles_Log</th>             <td>0.7003</td>   <td>0.0474</td>   <td>14.7887</td> <td>0.0000</td>  <td>0.6075</td>   <td>0.7931</td> \n",
       "</tr>\n",
       "<tr>\n",
       "  <th>severe_toxic_Log</th>              <td>-12.9134</td>  <td>3.6760</td>   <td>-3.5129</td> <td>0.0004</td> <td>-20.1183</td>  <td>-5.7085</td>\n",
       "</tr>\n",
       "</table>"
      ],
      "text/plain": [
       "<class 'statsmodels.iolib.summary2.Summary'>\n",
       "\"\"\"\n",
       "                                 Results: Logit\n",
       "=================================================================================\n",
       "Model:                    Logit                 No. Iterations:        7.0000    \n",
       "Dependent Variable:       Recommended           Pseudo R-squared:      0.298     \n",
       "Date:                     2018-06-23 00:01      AIC:                   51873.3193\n",
       "No. Observations:         53292                 BIC:                   52042.1066\n",
       "Df Model:                 18                    Log-Likelihood:        -25918.   \n",
       "Df Residuals:             53273                 LL-Null:               -36939.   \n",
       "Converged:                1.0000                Scale:                 1.0000    \n",
       "---------------------------------------------------------------------------------\n",
       "                               Coef.   Std.Err.    z     P>|z|   [0.025   0.975] \n",
       "---------------------------------------------------------------------------------\n",
       "Profile_Pic_Bool                0.1438   0.0254   5.6542 0.0000   0.0939   0.1936\n",
       "User_Rating                     0.8848   0.1038   8.5249 0.0000   0.6813   1.0882\n",
       "Rev_Avg_Sentiment              -7.2554   0.2811 -25.8101 0.0000  -7.8064  -6.7045\n",
       "TB_polarity                    -0.8466   0.1177  -7.1918 0.0000  -1.0773  -0.6159\n",
       "TB_subjectivity                 0.3762   0.0778   4.8369 0.0000   0.2237   0.5286\n",
       "Edited_Review_Bool             -0.7254   0.0691 -10.4970 0.0000  -0.8608  -0.5899\n",
       "Ratio_Recommended              -1.4251   0.0766 -18.5974 0.0000  -1.5753  -1.2749\n",
       "User_Rating_Diff               -2.3595   0.2029 -11.6288 0.0000  -2.7572  -1.9618\n",
       "Friends_Log                     1.0997   0.0545  20.1674 0.0000   0.9928   1.2066\n",
       "Days_Since_10_2004_Log          1.5108   0.1112  13.5866 0.0000   1.2928   1.7287\n",
       "Review_Sentence_Log           -23.6377   0.8997 -26.2734 0.0000 -25.4011 -21.8744\n",
       "Tot_Photos_Log                  1.3772   0.1108  12.4244 0.0000   1.1600   1.5945\n",
       "User_Tot_Reviews_Log            6.0533   0.1009  60.0120 0.0000   5.8556   6.2510\n",
       "Rev_Tot_Sentiment_Log          22.8509   0.8813  25.9298 0.0000  21.1236  24.5781\n",
       "Tot_Rest_Reviews_Log           -0.9890   0.0672 -14.7193 0.0000  -1.1206  -0.8573\n",
       "Tot_Rest_In_City_Log           -0.7200   0.0962  -7.4815 0.0000  -0.9086  -0.5314\n",
       "Review_Words_No_Stopwords_Log   5.3002   0.1704  31.0981 0.0000   4.9661   5.6342\n",
       "Rev_Dist_Miles_Log              0.7003   0.0474  14.7887 0.0000   0.6075   0.7931\n",
       "severe_toxic_Log              -12.9134   3.6760  -3.5129 0.0004 -20.1183  -5.7085\n",
       "=================================================================================\n",
       "\n",
       "\"\"\""
      ]
     },
     "execution_count": 9,
     "metadata": {},
     "output_type": "execute_result"
    }
   ],
   "source": [
    "model = sm.Logit(endog=y, exog=X, missing='raise').fit()\n",
    "y_pred_proba = model.predict(X)\n",
    "model.summary2()"
   ]
  },
  {
   "cell_type": "markdown",
   "metadata": {},
   "source": [
    "# ROC curve"
   ]
  },
  {
   "cell_type": "code",
   "execution_count": 10,
   "metadata": {},
   "outputs": [
    {
     "data": {
      "text/plain": [
       "<matplotlib.legend.Legend at 0xc105c88>"
      ]
     },
     "execution_count": 10,
     "metadata": {},
     "output_type": "execute_result"
    },
    {
     "data": {
      "image/png": "[encoded data removed]",
      "text/plain": [
       "<matplotlib.figure.Figure at 0xc105f60>"
      ]
     },
     "metadata": {},
     "output_type": "display_data"
    }
   ],
   "source": [
    "fpr, tpr, _ = metrics.roc_curve(y,  y_pred_proba)\n",
    "auc = metrics.roc_auc_score(y, y_pred_proba)\n",
    "plt.plot(fpr, tpr, label=\"auc=\"+str(auc))\n",
    "plt.legend(loc=4)"
   ]
  },
  {
   "cell_type": "markdown",
   "metadata": {},
   "source": [
    "# Choose a threshold value"
   ]
  },
  {
   "cell_type": "code",
   "execution_count": 11,
   "metadata": {},
   "outputs": [],
   "source": [
    "threshold = .5\n",
    "y_pred = (y_pred_proba > threshold).astype(int)"
   ]
  },
  {
   "cell_type": "code",
   "execution_count": 12,
   "metadata": {},
   "outputs": [
    {
     "name": "stdout",
     "output_type": "stream",
     "text": [
      "Accuracy Score: 0.7702094122945282\n",
      "--------------------------------------------------\n",
      "F1 Score: 0.7610909516563268\n",
      "--------------------------------------------------\n",
      "Precision: 0.7925402242808386\n",
      "--------------------------------------------------\n",
      "Recall: 0.7320423328079262\n",
      "--------------------------------------------------\n"
     ]
    },
    {
     "data": {
      "text/html": [
       "<div>\n",
       "<style scoped>\n",
       "    .dataframe tbody tr th:only-of-type {\n",
       "        vertical-align: middle;\n",
       "    }\n",
       "\n",
       "    .dataframe tbody tr th {\n",
       "        vertical-align: top;\n",
       "    }\n",
       "\n",
       "    .dataframe thead th {\n",
       "        text-align: right;\n",
       "    }\n",
       "</style>\n",
       "<table border=\"1\" class=\"dataframe\">\n",
       "  <thead>\n",
       "    <tr style=\"text-align: right;\">\n",
       "      <th></th>\n",
       "      <th>Predicted Non Rec</th>\n",
       "      <th>Predicted Rec</th>\n",
       "    </tr>\n",
       "  </thead>\n",
       "  <tbody>\n",
       "    <tr>\n",
       "      <th>Actual Non Rec</th>\n",
       "      <td>21540</td>\n",
       "      <td>5106</td>\n",
       "    </tr>\n",
       "    <tr>\n",
       "      <th>Actual Rec</th>\n",
       "      <td>7140</td>\n",
       "      <td>19506</td>\n",
       "    </tr>\n",
       "  </tbody>\n",
       "</table>\n",
       "</div>"
      ],
      "text/plain": [
       "                Predicted Non Rec  Predicted Rec\n",
       "Actual Non Rec              21540           5106\n",
       "Actual Rec                   7140          19506"
      ]
     },
     "execution_count": 12,
     "metadata": {},
     "output_type": "execute_result"
    }
   ],
   "source": [
    "print('Accuracy Score:', metrics.accuracy_score(y, y_pred))\n",
    "print('-'*50)\n",
    "print('F1 Score:', metrics.f1_score(y, y_pred))\n",
    "print('-'*50)\n",
    "print('Precision:', metrics.precision_score(y, y_pred))\n",
    "print('-'*50)\n",
    "print('Recall:', metrics.recall_score(y, y_pred))\n",
    "print('-'*50)\n",
    "confusion_matrix = pd.DataFrame(\n",
    "    metrics.confusion_matrix(y, y_pred),\n",
    "    columns=['Predicted Non Rec', 'Predicted Rec'],\n",
    "    index=['Actual Non Rec', 'Actual Rec']\n",
    ")\n",
    "confusion_matrix"
   ]
  },
  {
   "cell_type": "markdown",
   "metadata": {},
   "source": [
    "# Coefficient plot on scaled features Logistic Regression"
   ]
  },
  {
   "cell_type": "code",
   "execution_count": 13,
   "metadata": {
    "scrolled": false
   },
   "outputs": [
    {
     "data": {
      "image/png": "[encoded data removed]",
      "text/plain": [
       "<matplotlib.figure.Figure at 0xbd6b278>"
      ]
     },
     "metadata": {},
     "output_type": "display_data"
    }
   ],
   "source": [
    "plt.figure(figsize = (15,10))\n",
    "model.params[~model.params.index.isin(['Intercept'])].sort_values().plot(kind = 'barh', grid = 1, \n",
    "                                        title ='Logistic Regression Coefficent with Recommended Review')\n",
    "\n",
    "plt.xlabel('Logistic Regression Coefficent', fontsize=14)\n",
    "plt.xticks(fontsize=14)\n",
    "plt.yticks(fontsize=14)\n",
    "plt.show()"
   ]
  }
 ],
 "metadata": {
  "kernelspec": {
   "display_name": "Python 3",
   "language": "python",
   "name": "python3"
  },
  "language_info": {
   "codemirror_mode": {
    "name": "ipython",
    "version": 3
   },
   "file_extension": ".py",
   "mimetype": "text/x-python",
   "name": "python",
   "nbconvert_exporter": "python",
   "pygments_lexer": "ipython3",
   "version": "3.6.4"
  }
 },
 "nbformat": 4,
 "nbformat_minor": 2
}
