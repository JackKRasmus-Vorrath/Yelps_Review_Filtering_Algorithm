{
 "cells": [
  {
   "cell_type": "markdown",
   "metadata": {},
   "source": [
    "# Imports"
   ]
  },
  {
   "cell_type": "code",
   "execution_count": 1,
   "metadata": {},
   "outputs": [
    {
     "name": "stderr",
     "output_type": "stream",
     "text": [
      "/home/evo/.local/lib/python3.5/site-packages/h5py/__init__.py:36: FutureWarning: Conversion of the second argument of issubdtype from `float` to `np.floating` is deprecated. In future, it will be treated as `np.float64 == np.dtype(float).type`.\n",
      "  from ._conv import register_converters as _register_converters\n"
     ]
    },
    {
     "data": {
      "text/plain": [
       "'1.8.0'"
      ]
     },
     "execution_count": 1,
     "metadata": {},
     "output_type": "execute_result"
    }
   ],
   "source": [
    "%matplotlib inline\n",
    "from IPython.display import clear_output\n",
    "import tensorflow as tf\n",
    "import pandas as pd\n",
    "import numpy as np\n",
    "\n",
    "tf.__version__"
   ]
  },
  {
   "cell_type": "markdown",
   "metadata": {},
   "source": [
    "# Read Data"
   ]
  },
  {
   "cell_type": "code",
   "execution_count": 2,
   "metadata": {},
   "outputs": [
    {
     "name": "stdout",
     "output_type": "stream",
     "text": [
      "vocab_size 2857\n"
     ]
    },
    {
     "data": {
      "text/html": [
       "<div>\n",
       "<style scoped>\n",
       "    .dataframe tbody tr th:only-of-type {\n",
       "        vertical-align: middle;\n",
       "    }\n",
       "\n",
       "    .dataframe tbody tr th {\n",
       "        vertical-align: top;\n",
       "    }\n",
       "\n",
       "    .dataframe thead th {\n",
       "        text-align: right;\n",
       "    }\n",
       "</style>\n",
       "<table border=\"1\" class=\"dataframe\">\n",
       "  <thead>\n",
       "    <tr style=\"text-align: right;\">\n",
       "      <th></th>\n",
       "      <th>class</th>\n",
       "      <th>polarity</th>\n",
       "      <th>source</th>\n",
       "      <th>fold</th>\n",
       "      <th>file</th>\n",
       "      <th>review</th>\n",
       "    </tr>\n",
       "  </thead>\n",
       "  <tbody>\n",
       "    <tr>\n",
       "      <th>0</th>\n",
       "      <td>0</td>\n",
       "      <td>positive_polarity</td>\n",
       "      <td>deceptive_from_MTurk</td>\n",
       "      <td>2</td>\n",
       "      <td>d_talbott_9.txt</td>\n",
       "      <td>excellent staff and customer service, very cle...</td>\n",
       "    </tr>\n",
       "    <tr>\n",
       "      <th>1</th>\n",
       "      <td>0</td>\n",
       "      <td>positive_polarity</td>\n",
       "      <td>deceptive_from_MTurk</td>\n",
       "      <td>2</td>\n",
       "      <td>d_talbott_8.txt</td>\n",
       "      <td>my stay at this hotel was one of the best i ha...</td>\n",
       "    </tr>\n",
       "  </tbody>\n",
       "</table>\n",
       "</div>"
      ],
      "text/plain": [
       "   class           polarity                source  fold             file  \\\n",
       "0      0  positive_polarity  deceptive_from_MTurk     2  d_talbott_9.txt   \n",
       "1      0  positive_polarity  deceptive_from_MTurk     2  d_talbott_8.txt   \n",
       "\n",
       "                                              review  \n",
       "0  excellent staff and customer service, very cle...  \n",
       "1  my stay at this hotel was one of the best i ha...  "
      ]
     },
     "execution_count": 2,
     "metadata": {},
     "output_type": "execute_result"
    }
   ],
   "source": [
    "train_reviews = pd.read_csv('../data/op_spam_v1.4/train_reviews.csv')\n",
    "valid_reviews = pd.read_csv('../data/op_spam_v1.4/valid_reviews.csv')\n",
    "vocabulary_file = '../data/op_spam_v1.4/vocab.csv'\n",
    "\n",
    "with open(vocabulary_file) as f:\n",
    "    vocab_size = sum(1 for line in f) + 2\n",
    "\n",
    "print('vocab_size', vocab_size)\n",
    "train_reviews.head(2)"
   ]
  },
  {
   "cell_type": "markdown",
   "metadata": {},
   "source": [
    "# Model Function"
   ]
  },
  {
   "cell_type": "code",
   "execution_count": 3,
   "metadata": {},
   "outputs": [],
   "source": [
    "def words_to_word_ids(reviews, vocabulary_file, max_text_len=400):\n",
    "    # Load vocabolary lookup table to map word => word_id\n",
    "    vocab_table = tf.contrib.lookup.index_table_from_file(\n",
    "        vocabulary_file=vocabulary_file,\n",
    "        num_oov_buckets=1,\n",
    "        default_value=-1)\n",
    "    \n",
    "    # Split text to words -> this will produce sparse tensor with variable-lengthes (word count) entries\n",
    "    words = tf.string_split(reviews)\n",
    "    # Convert sparse tensor to dense tensor by padding each entry to match the longest in the batch\n",
    "    dense_words = tf.sparse_tensor_to_dense(words, default_value='#PAD#')\n",
    "    # Convert word to word_ids via the vocab lookup table\n",
    "    word_ids = vocab_table.lookup(dense_words)\n",
    "    # Create a word_ids padding\n",
    "    padding = tf.constant([[0, 0],[0, max_text_len]])\n",
    "    # Pad all the word_ids entries to the maximum document length\n",
    "    word_ids_padded = tf.pad(word_ids, padding)\n",
    "    word_id_vector = tf.slice(word_ids_padded, [0, 0], [-1, max_text_len])\n",
    "    return word_id_vector\n",
    "\n",
    "\n",
    "def model_fn(features, labels, mode, params):\n",
    "    default_params = dict(\n",
    "        n_classes=2,\n",
    "        embedding_size=5,\n",
    "        max_text_len=400,\n",
    "        learning_rate=0.001,\n",
    "        hidden_units=[24, 16],\n",
    "        forget_bias=1.,\n",
    "        keep_prob=0.8,\n",
    "    )\n",
    "    \n",
    "    default_params.update(params)\n",
    "    params = default_params\n",
    "\n",
    "    # words to word_id_vector\n",
    "    word_id_vector = words_to_word_ids(\n",
    "        features['review'],\n",
    "        params['vocabulary_file'],\n",
    "        params['max_text_len']\n",
    "    )\n",
    "    \n",
    "    # word_id to embeddings\n",
    "    word_embeddings = tf.contrib.layers.embed_sequence(\n",
    "        word_id_vector,\n",
    "        vocab_size=params['vocab_size'],\n",
    "        embed_dim=params['embedding_size']\n",
    "    )\n",
    "    \n",
    "    # configure the RNN\n",
    "    cells = []\n",
    "    for size in params['hidden_units']:\n",
    "        cell = tf.nn.rnn_cell.LSTMCell(\n",
    "            num_units=size, \n",
    "            forget_bias=params['forget_bias'],\n",
    "            activation=tf.nn.tanh)\n",
    "        cells.append(cell)\n",
    "\n",
    "    # create a RNN cell composed sequentially of a number of RNNCells\n",
    "    multi_rnn_cell = tf.nn.rnn_cell.MultiRNNCell(cells)\n",
    "    \n",
    "    input_layer = tf.unstack(word_embeddings, axis=1)\n",
    "    \n",
    "    outputs, _ = tf.nn.static_rnn(cell=multi_rnn_cell, \n",
    "                                inputs=input_layer, \n",
    "                                dtype=tf.float32)\n",
    "\n",
    "    logits = tf.layers.dense(inputs=outputs[-1], \n",
    "                             units=params['n_classes'], \n",
    "                             activation=None)\n",
    "\n",
    "    if mode == tf.estimator.ModeKeys.PREDICT:\n",
    "        predictions = {\n",
    "            'predictions': tf.argmax(logits, 1),\n",
    "            'probabilities': tf.nn.softmax(logits)\n",
    "        }\n",
    "\n",
    "        return tf.estimator.EstimatorSpec(mode, predictions=predictions)\n",
    "\n",
    "\n",
    "    loss = tf.losses.sparse_softmax_cross_entropy(\n",
    "        logits=logits, labels=labels)\n",
    "    \n",
    "    tf.summary.scalar('loss', loss)\n",
    "    \n",
    "    if mode == tf.estimator.ModeKeys.TRAIN:\n",
    "        global_step=tf.train.get_global_step()\n",
    "        optimizer = tf.train.AdamOptimizer(params['learning_rate'])\n",
    "        train_op = optimizer.minimize(loss=loss, global_step=global_step)\n",
    "        return tf.estimator.EstimatorSpec(mode=mode, loss=loss, train_op=train_op)\n",
    "\n",
    "    if mode == tf.estimator.ModeKeys.EVAL:\n",
    "        probabilities = tf.nn.softmax(logits)\n",
    "        predictions = tf.argmax(probabilities, 1)\n",
    "\n",
    "        eval_metric_ops = {\n",
    "            'accuracy': tf.metrics.accuracy(labels, predictions),\n",
    "            'precision': tf.metrics.precision(labels, predictions),\n",
    "            'recall': tf.metrics.recall(labels, predictions),\n",
    "        }\n",
    "        \n",
    "        return tf.estimator.EstimatorSpec(mode, loss=loss, eval_metric_ops=eval_metric_ops)\n"
   ]
  },
  {
   "cell_type": "markdown",
   "metadata": {},
   "source": [
    "# Estimator"
   ]
  },
  {
   "cell_type": "code",
   "execution_count": 8,
   "metadata": {},
   "outputs": [
    {
     "name": "stdout",
     "output_type": "stream",
     "text": [
      "INFO:tensorflow:Using config: {'_save_summary_steps': 100, '_global_id_in_cluster': 0, '_model_dir': '/tmp/models/rnn', '_evaluation_master': '', '_num_worker_replicas': 1, '_log_step_count_steps': 100, '_is_chief': True, '_save_checkpoints_steps': None, '_master': '', '_keep_checkpoint_max': 5, '_tf_random_seed': 0, '_num_ps_replicas': 0, '_task_id': 0, '_service': None, '_cluster_spec': <tensorflow.python.training.server_lib.ClusterSpec object at 0x7fd5e31e0470>, '_save_checkpoints_secs': 600, '_task_type': 'worker', '_session_config': None, '_keep_checkpoint_every_n_hours': 10000, '_train_distribute': None}\n"
     ]
    }
   ],
   "source": [
    "model_dir = '/tmp/models/rnn'\n",
    "#!rm -fr $model_dir\n",
    "params = dict(\n",
    "    vocab_size=vocab_size,\n",
    "    n_classes=2,\n",
    "    embedding_size=3,\n",
    "    max_text_len=200,\n",
    "    learning_rate=0.001,\n",
    "    vocabulary_file=vocabulary_file,\n",
    "    hidden_units=[32],\n",
    "    forget_bias=1.,\n",
    "    keep_prob=0.8\n",
    ")\n",
    "\n",
    "tf.logging.set_verbosity(tf.logging.INFO)\n",
    "\n",
    "run_config = tf.estimator.RunConfig(\n",
    "    log_step_count_steps=100,\n",
    "    tf_random_seed=0,\n",
    "    model_dir=model_dir\n",
    ")\n",
    "\n",
    "estimator = tf.estimator.Estimator(\n",
    "    model_fn=model_fn,\n",
    "    params=params, \n",
    "    config=run_config\n",
    ")"
   ]
  },
  {
   "cell_type": "markdown",
   "metadata": {},
   "source": [
    "# Input Functions"
   ]
  },
  {
   "cell_type": "code",
   "execution_count": 9,
   "metadata": {
    "collapsed": true
   },
   "outputs": [],
   "source": [
    "batch_size = 64\n",
    "\n",
    "train_input_fn = tf.estimator.inputs.pandas_input_fn(\n",
    "    x=train_reviews[['review']],\n",
    "    y=train_reviews['class'],\n",
    "    batch_size=batch_size,\n",
    "    shuffle=True,\n",
    "    queue_capacity=batch_size*3,\n",
    "    num_threads=1,\n",
    "    num_epochs=None,\n",
    ")\n",
    "valid_input_fn = tf.estimator.inputs.pandas_input_fn(\n",
    "    x=valid_reviews[['review']],\n",
    "    y=valid_reviews['class'],\n",
    "    batch_size=batch_size,\n",
    "    num_epochs=1,\n",
    "    shuffle=False,\n",
    "    queue_capacity=batch_size*3,\n",
    "    num_threads=1\n",
    ")"
   ]
  },
  {
   "cell_type": "markdown",
   "metadata": {},
   "source": [
    "# Train"
   ]
  },
  {
   "cell_type": "code",
   "execution_count": 10,
   "metadata": {},
   "outputs": [],
   "source": [
    "# DEBUG, INFO, WARN, ERROR, FATAL\n",
    "tf.logging.set_verbosity(tf.logging.INFO)\n",
    "result = pd.DataFrame()"
   ]
  },
  {
   "cell_type": "code",
   "execution_count": null,
   "metadata": {},
   "outputs": [
    {
     "data": {
      "text/html": [
       "<div>\n",
       "<style scoped>\n",
       "    .dataframe tbody tr th:only-of-type {\n",
       "        vertical-align: middle;\n",
       "    }\n",
       "\n",
       "    .dataframe tbody tr th {\n",
       "        vertical-align: top;\n",
       "    }\n",
       "\n",
       "    .dataframe thead th {\n",
       "        text-align: right;\n",
       "    }\n",
       "</style>\n",
       "<table border=\"1\" class=\"dataframe\">\n",
       "  <thead>\n",
       "    <tr style=\"text-align: right;\">\n",
       "      <th></th>\n",
       "      <th>loss</th>\n",
       "      <th>accuracy</th>\n",
       "      <th>precision</th>\n",
       "      <th>recall</th>\n",
       "    </tr>\n",
       "    <tr>\n",
       "      <th>global_step</th>\n",
       "      <th></th>\n",
       "      <th></th>\n",
       "      <th></th>\n",
       "      <th></th>\n",
       "    </tr>\n",
       "  </thead>\n",
       "  <tbody>\n",
       "    <tr>\n",
       "      <th>400</th>\n",
       "      <td>0.691807</td>\n",
       "      <td>0.54375</td>\n",
       "      <td>0.524138</td>\n",
       "      <td>0.95000</td>\n",
       "    </tr>\n",
       "    <tr>\n",
       "      <th>500</th>\n",
       "      <td>0.693350</td>\n",
       "      <td>0.50625</td>\n",
       "      <td>0.583333</td>\n",
       "      <td>0.04375</td>\n",
       "    </tr>\n",
       "  </tbody>\n",
       "</table>\n",
       "</div>"
      ],
      "text/plain": [
       "                 loss  accuracy  precision   recall\n",
       "global_step                                        \n",
       "400          0.691807   0.54375   0.524138  0.95000\n",
       "500          0.693350   0.50625   0.583333  0.04375"
      ]
     },
     "metadata": {},
     "output_type": "display_data"
    },
    {
     "name": "stdout",
     "output_type": "stream",
     "text": [
      "INFO:tensorflow:Calling model_fn.\n"
     ]
    }
   ],
   "source": [
    "for _ in range(100):\n",
    "    estimator.train(input_fn=train_input_fn, steps=100)\n",
    "    res = estimator.evaluate(input_fn=valid_input_fn)\n",
    "\n",
    "    result = result.append(pd.DataFrame([res]))\n",
    "\n",
    "    clear_output(wait=True)\n",
    "    display(result[['global_step', 'loss', 'accuracy', 'precision', 'recall']].set_index('global_step').tail())"
   ]
  },
  {
   "cell_type": "markdown",
   "metadata": {},
   "source": [
    "## 5. Evaluate the Model"
   ]
  },
  {
   "cell_type": "code",
   "execution_count": null,
   "metadata": {},
   "outputs": [],
   "source": [
    "train_results = estimator.evaluate(input_fn=train_input_fn)\n",
    "train_results['result_type'] = 'Train'\n",
    "valid_results = estimator.evaluate(input_fn=valid_input_fn)\n",
    "valid_results['result_type'] = 'Valid'\n",
    "pd.DataFrame([train_results, valid_results]).set_index('result_type')"
   ]
  }
 ],
 "metadata": {
  "kernelspec": {
   "display_name": "Python 3",
   "language": "python",
   "name": "python3"
  },
  "language_info": {
   "codemirror_mode": {
    "name": "ipython",
    "version": 3
   },
   "file_extension": ".py",
   "mimetype": "text/x-python",
   "name": "python",
   "nbconvert_exporter": "python",
   "pygments_lexer": "ipython3",
   "version": "3.5.3"
  }
 },
 "nbformat": 4,
 "nbformat_minor": 2
}
