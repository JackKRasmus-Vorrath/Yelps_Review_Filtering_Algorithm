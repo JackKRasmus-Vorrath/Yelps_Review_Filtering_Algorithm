{
 "cells": [
  {
   "cell_type": "code",
   "execution_count": 1,
   "metadata": {},
   "outputs": [],
   "source": [
    "from selenium import webdriver\n",
    "from selenium.webdriver.common.keys import Keys\n",
    "from tqdm import tqdm\n",
    "\n",
    "import numpy as np\n",
    "import pandas as pd"
   ]
  },
  {
   "cell_type": "code",
   "execution_count": 2,
   "metadata": {
    "scrolled": true
   },
   "outputs": [
    {
     "data": {
      "text/html": [
       "<div>\n",
       "<style scoped>\n",
       "    .dataframe tbody tr th:only-of-type {\n",
       "        vertical-align: middle;\n",
       "    }\n",
       "\n",
       "    .dataframe tbody tr th {\n",
       "        vertical-align: top;\n",
       "    }\n",
       "\n",
       "    .dataframe thead th {\n",
       "        text-align: right;\n",
       "    }\n",
       "</style>\n",
       "<table border=\"1\" class=\"dataframe\">\n",
       "  <thead>\n",
       "    <tr style=\"text-align: right;\">\n",
       "      <th></th>\n",
       "      <th>sample</th>\n",
       "    </tr>\n",
       "    <tr>\n",
       "      <th>City</th>\n",
       "      <th></th>\n",
       "    </tr>\n",
       "  </thead>\n",
       "  <tbody>\n",
       "    <tr>\n",
       "      <th>Phoenix</th>\n",
       "      <td>5</td>\n",
       "    </tr>\n",
       "    <tr>\n",
       "      <th>Scottsdale</th>\n",
       "      <td>4</td>\n",
       "    </tr>\n",
       "    <tr>\n",
       "      <th>Tempe</th>\n",
       "      <td>5</td>\n",
       "    </tr>\n",
       "  </tbody>\n",
       "</table>\n",
       "</div>"
      ],
      "text/plain": [
       "           sample\n",
       "City             \n",
       "Phoenix         5\n",
       "Scottsdale      4\n",
       "Tempe           5"
      ]
     },
     "execution_count": 2,
     "metadata": {},
     "output_type": "execute_result"
    }
   ],
   "source": [
    "samples_per_city = pd.read_excel('yelp data_Lee.xlsx')\n",
    "samples_per_city.columns = samples_per_city.iloc[0]\n",
    "samples_per_city = samples_per_city.iloc[1:].set_index('City')[['per 200']]\n",
    "samples_per_city.columns = ['sample']\n",
    "samples_per_city.head(3)"
   ]
  },
  {
   "cell_type": "code",
   "execution_count": 3,
   "metadata": {},
   "outputs": [
    {
     "data": {
      "text/html": [
       "<div>\n",
       "<style scoped>\n",
       "    .dataframe tbody tr th:only-of-type {\n",
       "        vertical-align: middle;\n",
       "    }\n",
       "\n",
       "    .dataframe tbody tr th {\n",
       "        vertical-align: top;\n",
       "    }\n",
       "\n",
       "    .dataframe thead th {\n",
       "        text-align: right;\n",
       "    }\n",
       "</style>\n",
       "<table border=\"1\" class=\"dataframe\">\n",
       "  <thead>\n",
       "    <tr style=\"text-align: right;\">\n",
       "      <th></th>\n",
       "      <th>sample</th>\n",
       "      <th>url</th>\n",
       "    </tr>\n",
       "  </thead>\n",
       "  <tbody>\n",
       "    <tr>\n",
       "      <th>Alameda</th>\n",
       "      <td>5</td>\n",
       "      <td>/alameda-ca-us</td>\n",
       "    </tr>\n",
       "    <tr>\n",
       "      <th>Albany</th>\n",
       "      <td>2</td>\n",
       "      <td>/albany-ca-us</td>\n",
       "    </tr>\n",
       "    <tr>\n",
       "      <th>Albuquerque</th>\n",
       "      <td>5</td>\n",
       "      <td>/albuquerque</td>\n",
       "    </tr>\n",
       "  </tbody>\n",
       "</table>\n",
       "</div>"
      ],
      "text/plain": [
       "            sample             url\n",
       "Alameda          5  /alameda-ca-us\n",
       "Albany           2   /albany-ca-us\n",
       "Albuquerque      5    /albuquerque"
      ]
     },
     "execution_count": 3,
     "metadata": {},
     "output_type": "execute_result"
    }
   ],
   "source": [
    "city_links = pd.read_csv('city_links.csv').set_index('name')\n",
    "samples_per_city = samples_per_city.join(city_links, how='inner')\n",
    "samples_per_city.head(3)"
   ]
  },
  {
   "cell_type": "markdown",
   "metadata": {},
   "source": [
    "# Get restaurants from city"
   ]
  },
  {
   "cell_type": "code",
   "execution_count": 4,
   "metadata": {},
   "outputs": [
    {
     "name": "stderr",
     "output_type": "stream",
     "text": [
      "100%|██████████| 159/159 [1:18:37<00:00, 29.67s/it]\n"
     ]
    }
   ],
   "source": [
    "profile = webdriver.FirefoxProfile()\n",
    "profile.set_preference('permissions.default.image', 2)\n",
    "profile.set_preference('dom.ipc.plugins.enabled.libflashplayer.so', 'false')\n",
    "restaurants = []\n",
    "for city in tqdm(samples_per_city.index):\n",
    "    \n",
    "    sample_size, url = samples_per_city.loc[city][['sample', 'url']]\n",
    "    \n",
    "    driver = webdriver.Firefox(firefox_profile=profile)\n",
    "    try:\n",
    "        driver.get('https://www.yelp.com' + url);\n",
    "    except:\n",
    "        driver.close()\n",
    "        continue\n",
    "    driver.find_element_by_xpath('//a[text()=\"%s\"]' % 'Restaurants').click();\n",
    "    count_text = driver.find_element_by_xpath('//span[@class=\"pagination-results-window\"]').text\n",
    "    \n",
    "    n_restaurants = int(count_text.split(' ')[-1])\n",
    "    n_pages = max(n_restaurants // 10, 1)\n",
    "    n_pages = min(n_pages, 100)\n",
    "    \n",
    "    # random start\n",
    "    #np.random.seed(0)\n",
    "    max_reachable_resturants = min(n_restaurants, 990)\n",
    "    start = np.random.randint(0, max_reachable_resturants-1)\n",
    "    \n",
    "    selected_restaurant_numbers = [start+1]\n",
    "\n",
    "    base_url = driver.current_url\n",
    "    for _ in range(sample_size):\n",
    "\n",
    "        driver.get(base_url + '&start=%d&cflt=restaurants' % start)\n",
    "        start = (start + 200) % max_reachable_resturants\n",
    "\n",
    "        while start+1 in selected_restaurant_numbers:\n",
    "            start += 1\n",
    "        selected_restaurant_numbers.append(start)\n",
    "\n",
    "        base_xpath = '//li[@class=\"regular-search-result\"][1]'\n",
    "\n",
    "        link = driver.find_element_by_xpath(base_xpath + '//a[@class=\"biz-name js-analytics-click\"]').get_attribute('href')\n",
    "\n",
    "\n",
    "        name = driver.find_element_by_xpath(base_xpath + '//a[@class=\"biz-name js-analytics-click\"]').text\n",
    "\n",
    "        address = driver.find_element_by_xpath(base_xpath + '//div[@class=\"secondary-attributes\"]').text\n",
    "        try:\n",
    "            rating = driver.find_element_by_xpath(base_xpath + '//div[@class=\"biz-rating biz-rating-large clearfix\"]/div').get_attribute('title')\n",
    "            rating = float(rating.split(' ')[0])\n",
    "        except:\n",
    "            rating = -1\n",
    "        try:\n",
    "            n_reviews = driver.find_element_by_xpath(base_xpath + '//div[@class=\"biz-rating biz-rating-large clearfix\"]/span[@class=\"review-count rating-qualifier\"]').text\n",
    "            n_reviews = int(n_reviews.split(' ')[0])\n",
    "        except:\n",
    "            n_reviews = 0\n",
    "\n",
    "        restaurants.append(dict(\n",
    "            city=city,\n",
    "            number_restaurants=n_restaurants,\n",
    "            restaurant_number=start+1,\n",
    "            restaurant_name=name,\n",
    "            restaurant_link=link,\n",
    "            address=address,\n",
    "            rating=rating,\n",
    "            n_reviews=n_reviews\n",
    "        ))\n",
    "\n",
    "    driver.close()\n",
    "    \n",
    "restaurants = pd.DataFrame(restaurants)\n",
    "restaurants.to_csv('restaurants.csv')"
   ]
  },
  {
   "cell_type": "code",
   "execution_count": 9,
   "metadata": {},
   "outputs": [],
   "source": [
    "restaurants = restaurants.drop_duplicates('restaurant_link')\n",
    "restaurants.to_csv('restaurants.csv')"
   ]
  }
 ],
 "metadata": {
  "kernelspec": {
   "display_name": "Python 3",
   "language": "python",
   "name": "python3"
  },
  "language_info": {
   "codemirror_mode": {
    "name": "ipython",
    "version": 3
   },
   "file_extension": ".py",
   "mimetype": "text/x-python",
   "name": "python",
   "nbconvert_exporter": "python",
   "pygments_lexer": "ipython3",
   "version": "3.6.4"
  }
 },
 "nbformat": 4,
 "nbformat_minor": 2
}
